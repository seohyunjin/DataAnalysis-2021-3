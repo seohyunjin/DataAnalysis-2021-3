{
 "metadata": {
  "language_info": {
   "codemirror_mode": {
    "name": "ipython",
    "version": 3
   },
   "file_extension": ".py",
   "mimetype": "text/x-python",
   "name": "python",
   "nbconvert_exporter": "python",
   "pygments_lexer": "ipython3",
   "version": "3.8.5"
  },
  "orig_nbformat": 2,
  "kernelspec": {
   "name": "python385jvsc74a57bd08c1eae21719a0790335dcb83aad72b63b602cfe5cdb2bda0f60bc11d4f154e4b",
   "display_name": "Python 3.8.5 64-bit ('base': conda)"
  }
 },
 "nbformat": 4,
 "nbformat_minor": 2,
 "cells": [
  {
   "source": [
    "# Melon 주간 차트 크롤링"
   ],
   "cell_type": "markdown",
   "metadata": {}
  },
  {
   "cell_type": "code",
   "execution_count": 1,
   "metadata": {},
   "outputs": [],
   "source": [
    "import requests\n",
    "import pandas as pd"
   ]
  },
  {
   "cell_type": "code",
   "execution_count": 6,
   "metadata": {},
   "outputs": [
    {
     "output_type": "execute_result",
     "data": {
      "text/plain": [
       "'<br>\\r\\n<br>\\r\\n<center>\\r\\n<img src=\"http://www.geniemusic.co.kr/images/common/logo_r1.png\"><br>\\r\\n<h2> <meta http-equiv=\"Content-Type\" content=\"text/html;charset=UTF-8\"> ì\\xa0\\x91ì\\x86\\x8dì\\x9a\\x94ì²\\xadì\\x9d´ ë³´ì\\x95\\x88ì\\xa0\\x95ì±\\x85ì\\x97\\x90 ì\\x9d\\x98í\\x95´ ì°¨ë\\x8b¨ë\\x90\\x98ì\\x97\\x88ì\\x8aµë\\x8b\\x88ë\\x8b¤. ë\\x8b¹ì\\x82¬ ê³\\xa0ê°\\x9dì\\x84¼í\\x84°ë¡\\x9c ë¬¸ì\\x9d\\x98í\\x95´ì£¼ì\\x8b\\xadì\\x8b\\x9cì\\x98¤.<br><br>\\r\\nThe security policy of the connection request is blocked. Contact your customer service representative.<br><br>\\r\\nì§\\x80ë\\x8b\\x88ë®¤ì§\\x81 ê³\\xa0ê°\\x9dì\\x84¼í\\x84° 1577-5337<br><br>\\r\\n</h2>\\r\\n</center>\\r\\n<br>'"
      ]
     },
     "metadata": {},
     "execution_count": 6
    }
   ],
   "source": [
    "# 지니차트\n",
    "url = 'https://www.genie.co.kr/chart/top200'\n",
    "req = requests.get(url)\n",
    "html = req.text\n",
    "html"
   ]
  },
  {
   "cell_type": "code",
   "execution_count": 8,
   "metadata": {},
   "outputs": [],
   "source": [
    "# 한빛 아카데미\n",
    "url = 'https://www.hanbit.co.kr/academy/'\n",
    "req = requests.get(url)\n",
    "html = req.text\n",
    "# html"
   ]
  },
  {
   "cell_type": "code",
   "execution_count": 5,
   "metadata": {},
   "outputs": [
    {
     "output_type": "execute_result",
     "data": {
      "text/plain": [
       "''"
      ]
     },
     "metadata": {},
     "execution_count": 5
    }
   ],
   "source": [
    "# 멜론차트\n",
    "url = 'https://www.melon.com/chart/week/index.htm'\n",
    "req = requests.get(url)\n",
    "html = req.text\n",
    "html # '' ; 일부사이트는 데이터 불러오지 못함."
   ]
  },
  {
   "cell_type": "code",
   "execution_count": 10,
   "metadata": {},
   "outputs": [],
   "source": [
    "# 데이터 불러오지 못하는 일부 사이트에 대하여 작업\n",
    "# header에 'User-Agent'값을 주어야만 데이터를 가져올수 있음\n",
    "# 멜론차트\n",
    "url = 'https://www.melon.com/chart/week/index.htm'\n",
    "header = {'User-Agent' : \"Mozilla/5.0 (Windows NT 10.0; Win64; x64) AppleWebKit/537.36 (KHTML, like Gecko) Chrome/91.0.4472.77 Safari/537.36\"}\n",
    "req = requests.get(url, headers = header)\n",
    "html = req.text\n",
    "#html "
   ]
  },
  {
   "cell_type": "code",
   "execution_count": 12,
   "metadata": {},
   "outputs": [],
   "source": [
    "from bs4 import BeautifulSoup\n",
    "\n",
    "soup = BeautifulSoup(html, 'html.parser') #멜론차트를 request 이용해 html로 가져온 상황\n",
    "#soup"
   ]
  },
  {
   "source": [
    " ### Selector\n",
    " \n",
    "    lst50 > td:nth-child(6) > div > div > div.ellipsis.rank02 > a\n",
    "\n",
    " ### Xpath \n",
    "\n",
    "    //*[@id=\"lst50\"]/td[6]/div/div/div[2]/a "
   ],
   "cell_type": "markdown",
   "metadata": {}
  },
  {
   "cell_type": "code",
   "execution_count": 17,
   "metadata": {},
   "outputs": [
    {
     "output_type": "execute_result",
     "data": {
      "text/plain": [
       "50"
      ]
     },
     "metadata": {},
     "execution_count": 17
    }
   ],
   "source": [
    "trs = soup.select(\"#lst50\") # id명으로 가져옴:#\n",
    "len(trs)"
   ]
  },
  {
   "cell_type": "code",
   "execution_count": 21,
   "metadata": {},
   "outputs": [
    {
     "output_type": "execute_result",
     "data": {
      "text/plain": [
       "<tr class=\"lst50\" data-song-no=\"33507137\" id=\"lst50\">\n",
       "<td><div class=\"wrap t_right\"><input class=\"input_check\" name=\"input_check\" title=\"Butter 곡 선택\" type=\"checkbox\" value=\"33507137\"/></div></td>\n",
       "<td><div class=\"wrap t_center\"><span class=\"rank\">1</span><span class=\"none\">위</span></div></td>\n",
       "<!-- 차트순위 추가 -->\n",
       "<td><div class=\"wrap\">\n",
       "<span class=\"rank_wrap\" title=\"14단계 상승\">\n",
       "<span class=\"bullet_icons rank_up\"><span class=\"none\">단계 상승</span></span>\n",
       "<span class=\"up\">14</span>\n",
       "</span>\n",
       "</div></td>\n",
       "<td><div class=\"wrap\">\n",
       "<a class=\"image_typeAll\" href=\"javascript:melon.link.goAlbumDetail('10612483');\" title=\"Butter\">\n",
       "<img alt=\"Butter - 페이지 이동\" height=\"60\" onerror=\"WEBPOCIMG.defaultAlbumImg(this);\" src=\"https://cdnimg.melon.co.kr/cm2/album/images/106/12/483/10612483_20210521111412_500.jpg/melon/resize/120/quality/80/optimize\" width=\"60\">\n",
       "<span class=\"bg_album_frame\"></span>\n",
       "</img></a>\n",
       "</div></td>\n",
       "<td><div class=\"wrap\">\n",
       "<a class=\"btn button_icons type03 song_info\" href=\"javascript:melon.link.goSongDetail('33507137');\" title=\"Butter 곡정보\"><span class=\"none\">곡정보</span></a>\n",
       "</div></td>\n",
       "<td><div class=\"wrap\">\n",
       "<div class=\"wrap_song_info\">\n",
       "<div class=\"ellipsis rank01\"><span>\n",
       "<a href=\"javascript:melon.play.playSong('19041301',33507137);\" title=\"Butter 재생\">Butter</a>\n",
       "</span></div><br/>\n",
       "<div class=\"ellipsis rank02\">\n",
       "<a href=\"javascript:melon.link.goArtistDetail('672375');\" title=\"방탄소년단 - 페이지 이동\">방탄소년단</a><span class=\"checkEllipsis\" style=\"display:none\"><a href=\"javascript:melon.link.goArtistDetail('672375');\" title=\"방탄소년단 - 페이지 이동\">방탄소년단</a></span>\n",
       "</div>\n",
       "</div>\n",
       "</div></td>\n",
       "<td><div class=\"wrap\">\n",
       "<div class=\"wrap_song_info\">\n",
       "<div class=\"ellipsis rank03\">\n",
       "<a href=\"javascript:melon.link.goAlbumDetail('10612483');\" title=\"Butter - 페이지 이동\">Butter</a>\n",
       "</div>\n",
       "</div>\n",
       "</div></td>\n",
       "<td><div class=\"wrap\">\n",
       "<button class=\"button_etc like\" data-song-menuid=\"19041301\" data-song-no=\"33507137\" title=\"Butter 좋아요\" type=\"button\">\n",
       "<span class=\"odd_span\">좋아요</span>\n",
       "<span class=\"cnt\">\n",
       "<span class=\"none\">총건수</span>\n",
       "\t\t\t\t\t\t\t\t\t\t\t\t0\n",
       "\t\t\t\t\t\t\t\t\t\t\t</span>\n",
       "</button>\n",
       "</div></td>\n",
       "<td><div class=\"wrap t_center\">\n",
       "<button class=\"button_icons play\" onclick=\"melon.play.playSong('19041301',33507137);\" title=\"듣기\" type=\"button\"><span class=\"none\">듣기</span></button>\n",
       "</div></td>\n",
       "<td><div class=\"wrap t_center\">\n",
       "<button class=\"button_icons scrap\" onclick=\"melon.play.addPlayList('33507137');\" title=\"담기\" type=\"button\"><span class=\"none\">담기</span></button>\n",
       "</div></td>\n",
       "<td><div class=\"wrap t_center\">\n",
       "<button class=\"button_icons download\" onclick=\"melon.buy.goBuyProduct('frm', '33507137', '3C0001', '','0', '19041301');\" title=\"다운로드\" type=\"button\"><span class=\"none\">다운로드</span></button>\n",
       "</div></td>\n",
       "<td><div class=\"wrap t_center\">\n",
       "<button class=\"button_icons video\" onclick=\"melon.link.goMvDetail('19041301', '33507137','song');\" title=\"뮤직비디오\" type=\"button\"><span class=\"none\">뮤직비디오</span></button>\n",
       "</div></td>\n",
       "</tr>"
      ]
     },
     "metadata": {},
     "execution_count": 21
    }
   ],
   "source": [
    "tr = trs[0]\n",
    "tr"
   ]
  },
  {
   "cell_type": "code",
   "execution_count": 28,
   "metadata": {},
   "outputs": [
    {
     "output_type": "execute_result",
     "data": {
      "text/plain": [
       "1"
      ]
     },
     "metadata": {},
     "execution_count": 28
    }
   ],
   "source": [
    "# rank데이터 가져오기\n",
    "rank = tr.select_one('.rank').string #; rank  # 문자형이므로\n",
    "rank = int(rank) ; rank"
   ]
  },
  {
   "cell_type": "code",
   "execution_count": 26,
   "metadata": {},
   "outputs": [
    {
     "output_type": "execute_result",
     "data": {
      "text/plain": [
       "<bound method Tag.get_text of <span class=\"rank\">1</span>>"
      ]
     },
     "metadata": {},
     "execution_count": 26
    }
   ],
   "source": [
    "rank = tr.select_one('.rank').get_text; rank"
   ]
  },
  {
   "cell_type": "code",
   "execution_count": 33,
   "metadata": {},
   "outputs": [
    {
     "output_type": "execute_result",
     "data": {
      "text/plain": [
       "<div class=\"ellipsis rank01\"><span>\n",
       "<a href=\"javascript:melon.play.playSong('19041301',33507137);\" title=\"Butter 재생\">Butter</a>\n",
       "</span></div>"
      ]
     },
     "metadata": {},
     "execution_count": 33
    }
   ],
   "source": [
    "# 곡명 찾아오기\n",
    "title = tr.select_one(\".ellipsis.rank01\"); title\n",
    "# class 명에 space bar 가 존재할시 \"\"안이더라도 .으로 바꾸어 주어야한다!!"
   ]
  },
  {
   "cell_type": "code",
   "execution_count": 36,
   "metadata": {},
   "outputs": [
    {
     "output_type": "execute_result",
     "data": {
      "text/plain": [
       "'Butter'"
      ]
     },
     "metadata": {},
     "execution_count": 36
    }
   ],
   "source": [
    "title = tr.select_one(\".ellipsis.rank01\")\n",
    "title = title.find('a').get_text() # <a> tag의 text를 가져올것\n",
    "title"
   ]
  },
  {
   "cell_type": "code",
   "execution_count": 41,
   "metadata": {},
   "outputs": [
    {
     "output_type": "execute_result",
     "data": {
      "text/plain": [
       "<div class=\"ellipsis rank02\">\n",
       "<a href=\"javascript:melon.link.goArtistDetail('672375');\" title=\"방탄소년단 - 페이지 이동\">방탄소년단</a><span class=\"checkEllipsis\" style=\"display:none\"><a href=\"javascript:melon.link.goArtistDetail('672375');\" title=\"방탄소년단 - 페이지 이동\">방탄소년단</a></span>\n",
       "</div>"
      ]
     },
     "metadata": {},
     "execution_count": 41
    }
   ],
   "source": [
    "# 가수명 찾아오기\n",
    "artist = tr.select_one(\".ellipsis.rank02\"); artist"
   ]
  },
  {
   "cell_type": "code",
   "execution_count": 42,
   "metadata": {},
   "outputs": [
    {
     "output_type": "execute_result",
     "data": {
      "text/plain": [
       "'방탄소년단'"
      ]
     },
     "metadata": {},
     "execution_count": 42
    }
   ],
   "source": [
    "artist = artist.find('a').get_text()\n",
    "artist"
   ]
  },
  {
   "cell_type": "code",
   "execution_count": 43,
   "metadata": {},
   "outputs": [
    {
     "output_type": "execute_result",
     "data": {
      "text/plain": [
       "'Butter'"
      ]
     },
     "metadata": {},
     "execution_count": 43
    }
   ],
   "source": [
    "# 앨범\n",
    "album  = tr.select_one(\".ellipsis.rank03\"); album\n",
    "album = album.find('a').string # get_text()대신 string 도 가능\n",
    "album"
   ]
  },
  {
   "source": [
    "### 50곡에 대해서 데이터 프레임 만들기"
   ],
   "cell_type": "markdown",
   "metadata": {}
  },
  {
   "cell_type": "code",
   "execution_count": 45,
   "metadata": {},
   "outputs": [],
   "source": [
    "rank_list, title_list, artist_list, album_list = [],[],[],[]\n",
    "for tr in trs:\n",
    "    rank = tr.select_one('.rank').string \n",
    "    rank = int(rank) \n",
    "    title = tr.select_one(\".ellipsis.rank01\")\n",
    "    title = title.find('a').get_text() \n",
    "    artist = tr.select_one(\".ellipsis.rank02\")\n",
    "    artist = artist.find('a').get_text()\n",
    "    album  = tr.select_one(\".ellipsis.rank03\")\n",
    "    album = album.find('a').string\n",
    "\n",
    "    rank_list.append(rank)\n",
    "    title_list.append(title)\n",
    "    artist_list.append(artist)\n",
    "    album_list.append(album)"
   ]
  },
  {
   "cell_type": "code",
   "execution_count": 47,
   "metadata": {},
   "outputs": [
    {
     "output_type": "execute_result",
     "data": {
      "text/plain": [
       "   순위                                      곡명                 가수  \\\n",
       "0   1                                  Butter              방탄소년단   \n",
       "1   2                           Dun Dun Dance  오마이걸 (OH MY GIRL)   \n",
       "2   3  Peaches (Feat. Daniel Caesar & Giveon)      Justin Bieber   \n",
       "3   4                                   헤픈 우연        헤이즈 (Heize)   \n",
       "4   5                            롤린 (Rollin')             브레이브걸스   \n",
       "\n",
       "              앨범  \n",
       "0         Butter  \n",
       "1  Dear OHMYGIRL  \n",
       "2        Justice  \n",
       "3         HAPPEN  \n",
       "4        Rollin'  "
      ],
      "text/html": "<div>\n<style scoped>\n    .dataframe tbody tr th:only-of-type {\n        vertical-align: middle;\n    }\n\n    .dataframe tbody tr th {\n        vertical-align: top;\n    }\n\n    .dataframe thead th {\n        text-align: right;\n    }\n</style>\n<table border=\"1\" class=\"dataframe\">\n  <thead>\n    <tr style=\"text-align: right;\">\n      <th></th>\n      <th>순위</th>\n      <th>곡명</th>\n      <th>가수</th>\n      <th>앨범</th>\n    </tr>\n  </thead>\n  <tbody>\n    <tr>\n      <th>0</th>\n      <td>1</td>\n      <td>Butter</td>\n      <td>방탄소년단</td>\n      <td>Butter</td>\n    </tr>\n    <tr>\n      <th>1</th>\n      <td>2</td>\n      <td>Dun Dun Dance</td>\n      <td>오마이걸 (OH MY GIRL)</td>\n      <td>Dear OHMYGIRL</td>\n    </tr>\n    <tr>\n      <th>2</th>\n      <td>3</td>\n      <td>Peaches (Feat. Daniel Caesar &amp; Giveon)</td>\n      <td>Justin Bieber</td>\n      <td>Justice</td>\n    </tr>\n    <tr>\n      <th>3</th>\n      <td>4</td>\n      <td>헤픈 우연</td>\n      <td>헤이즈 (Heize)</td>\n      <td>HAPPEN</td>\n    </tr>\n    <tr>\n      <th>4</th>\n      <td>5</td>\n      <td>롤린 (Rollin')</td>\n      <td>브레이브걸스</td>\n      <td>Rollin'</td>\n    </tr>\n  </tbody>\n</table>\n</div>"
     },
     "metadata": {},
     "execution_count": 47
    }
   ],
   "source": [
    "df = pd.DataFrame({\n",
    "    '순위' : rank_list,\n",
    "    '곡명' : title_list,\n",
    "    '가수': artist_list,\n",
    "    '앨범':album_list\n",
    "})\n",
    "df.head()"
   ]
  },
  {
   "source": [
    "### 이미지 속성값 가져오기"
   ],
   "cell_type": "markdown",
   "metadata": {}
  },
  {
   "cell_type": "code",
   "execution_count": 51,
   "metadata": {},
   "outputs": [
    {
     "output_type": "execute_result",
     "data": {
      "text/plain": [
       "'https://cdnimg.melon.co.kr/cm2/album/images/106/12/483/10612483_20210521111412_500.jpg/melon/resize/120/quality/80/optimize'"
      ]
     },
     "metadata": {},
     "execution_count": 51
    }
   ],
   "source": [
    "image = trs[0].select_one('.image_typeAll').find('img') # img태그 가져옴\n",
    "image = image['src'] # 속성값 가져오기\n",
    "image"
   ]
  },
  {
   "source": [
    "### - QUIZ]"
   ],
   "cell_type": "markdown",
   "metadata": {}
  },
  {
   "cell_type": "code",
   "execution_count": 55,
   "metadata": {},
   "outputs": [
    {
     "output_type": "execute_result",
     "data": {
      "text/plain": [
       "(50, 50)"
      ]
     },
     "metadata": {},
     "execution_count": 55
    }
   ],
   "source": [
    "trs50 = soup.select(\"#lst50\") \n",
    "trs100 = soup.select(\"#lst100\") \n",
    "len(trs50) , len(trs100)"
   ]
  },
  {
   "cell_type": "code",
   "execution_count": 61,
   "metadata": {},
   "outputs": [],
   "source": [
    "rank_list, title_list, artist_list, album_list, image_list = [],[],[],[],[]\n",
    "# top 50\n",
    "for tr in trs50:\n",
    "    rank = tr.select_one('.rank').string \n",
    "    rank = int(rank) \n",
    "    title = tr.select_one(\".ellipsis.rank01\")\n",
    "    title = title.find('a').get_text() \n",
    "    artist = tr.select_one(\".ellipsis.rank02\")\n",
    "    artist = artist.find('a').get_text()\n",
    "    album  = tr.select_one(\".ellipsis.rank03\")\n",
    "    album = album.find('a').string\n",
    "    image = trs[0].select_one('.image_typeAll').find('img') \n",
    "    image = image['src'] \n",
    "\n",
    "    rank_list.append(rank)\n",
    "    title_list.append(title)\n",
    "    artist_list.append(artist)\n",
    "    album_list.append(album)\n",
    "    image_list.append(image)"
   ]
  },
  {
   "cell_type": "code",
   "execution_count": 63,
   "metadata": {},
   "outputs": [],
   "source": [
    "# 50위~100위\n",
    "for tr in trs100:\n",
    "    rank = tr.select_one('.rank').string \n",
    "    rank = int(rank) \n",
    "    title = tr.select_one(\".ellipsis.rank01\")\n",
    "    title = title.find('a').get_text() \n",
    "    artist = tr.select_one(\".ellipsis.rank02\")\n",
    "    artist = artist.find('a').get_text()\n",
    "    album  = tr.select_one(\".ellipsis.rank03\")\n",
    "    album = album.find('a').string\n",
    "    image = trs[0].select_one('.image_typeAll').find('img') \n",
    "    image = image['src'] \n",
    "\n",
    "    rank_list.append(rank)\n",
    "    title_list.append(title)\n",
    "    artist_list.append(artist)\n",
    "    album_list.append(album)\n",
    "    image_list.append(image)"
   ]
  },
  {
   "cell_type": "code",
   "execution_count": 64,
   "metadata": {},
   "outputs": [
    {
     "output_type": "execute_result",
     "data": {
      "text/plain": [
       "   순위                                      곡명                 가수  \\\n",
       "0   1                                  Butter              방탄소년단   \n",
       "1   2                           Dun Dun Dance  오마이걸 (OH MY GIRL)   \n",
       "2   3  Peaches (Feat. Daniel Caesar & Giveon)      Justin Bieber   \n",
       "3   4                                   헤픈 우연        헤이즈 (Heize)   \n",
       "4   5                            롤린 (Rollin')             브레이브걸스   \n",
       "\n",
       "              앨범                                                 사진  \n",
       "0         Butter  https://cdnimg.melon.co.kr/cm2/album/images/10...  \n",
       "1  Dear OHMYGIRL  https://cdnimg.melon.co.kr/cm2/album/images/10...  \n",
       "2        Justice  https://cdnimg.melon.co.kr/cm2/album/images/10...  \n",
       "3         HAPPEN  https://cdnimg.melon.co.kr/cm2/album/images/10...  \n",
       "4        Rollin'  https://cdnimg.melon.co.kr/cm2/album/images/10...  "
      ],
      "text/html": "<div>\n<style scoped>\n    .dataframe tbody tr th:only-of-type {\n        vertical-align: middle;\n    }\n\n    .dataframe tbody tr th {\n        vertical-align: top;\n    }\n\n    .dataframe thead th {\n        text-align: right;\n    }\n</style>\n<table border=\"1\" class=\"dataframe\">\n  <thead>\n    <tr style=\"text-align: right;\">\n      <th></th>\n      <th>순위</th>\n      <th>곡명</th>\n      <th>가수</th>\n      <th>앨범</th>\n      <th>사진</th>\n    </tr>\n  </thead>\n  <tbody>\n    <tr>\n      <th>0</th>\n      <td>1</td>\n      <td>Butter</td>\n      <td>방탄소년단</td>\n      <td>Butter</td>\n      <td>https://cdnimg.melon.co.kr/cm2/album/images/10...</td>\n    </tr>\n    <tr>\n      <th>1</th>\n      <td>2</td>\n      <td>Dun Dun Dance</td>\n      <td>오마이걸 (OH MY GIRL)</td>\n      <td>Dear OHMYGIRL</td>\n      <td>https://cdnimg.melon.co.kr/cm2/album/images/10...</td>\n    </tr>\n    <tr>\n      <th>2</th>\n      <td>3</td>\n      <td>Peaches (Feat. Daniel Caesar &amp; Giveon)</td>\n      <td>Justin Bieber</td>\n      <td>Justice</td>\n      <td>https://cdnimg.melon.co.kr/cm2/album/images/10...</td>\n    </tr>\n    <tr>\n      <th>3</th>\n      <td>4</td>\n      <td>헤픈 우연</td>\n      <td>헤이즈 (Heize)</td>\n      <td>HAPPEN</td>\n      <td>https://cdnimg.melon.co.kr/cm2/album/images/10...</td>\n    </tr>\n    <tr>\n      <th>4</th>\n      <td>5</td>\n      <td>롤린 (Rollin')</td>\n      <td>브레이브걸스</td>\n      <td>Rollin'</td>\n      <td>https://cdnimg.melon.co.kr/cm2/album/images/10...</td>\n    </tr>\n  </tbody>\n</table>\n</div>"
     },
     "metadata": {},
     "execution_count": 64
    }
   ],
   "source": [
    "df = pd.DataFrame({\n",
    "    '순위' : rank_list,\n",
    "    '곡명' : title_list,\n",
    "    '가수': artist_list,\n",
    "    '앨범': album_list,\n",
    "    '사진': image_list\n",
    "})\n",
    "df.head()"
   ]
  },
  {
   "cell_type": "code",
   "execution_count": 65,
   "metadata": {},
   "outputs": [
    {
     "output_type": "execute_result",
     "data": {
      "text/plain": [
       "     순위                  곡명         가수                             앨범  \\\n",
       "95   96           혼술하고 싶은 밤          벤                      혼술하고 싶은 밤   \n",
       "96   97                 죄와벌     SG 워너비                            살다가   \n",
       "97   98                 되풀이        임창정              펜트하우스2 OST Part.1   \n",
       "98   99  고래 (Dive Into You)  NCT DREAM  맛 (Hot Sauce) - The 1st Album   \n",
       "99  100   돌림노래 (Feat. DEAN)        아이유           IU 5th Album 'LILAC'   \n",
       "\n",
       "                                                   사진  \n",
       "95  https://cdnimg.melon.co.kr/cm2/album/images/10...  \n",
       "96  https://cdnimg.melon.co.kr/cm2/album/images/10...  \n",
       "97  https://cdnimg.melon.co.kr/cm2/album/images/10...  \n",
       "98  https://cdnimg.melon.co.kr/cm2/album/images/10...  \n",
       "99  https://cdnimg.melon.co.kr/cm2/album/images/10...  "
      ],
      "text/html": "<div>\n<style scoped>\n    .dataframe tbody tr th:only-of-type {\n        vertical-align: middle;\n    }\n\n    .dataframe tbody tr th {\n        vertical-align: top;\n    }\n\n    .dataframe thead th {\n        text-align: right;\n    }\n</style>\n<table border=\"1\" class=\"dataframe\">\n  <thead>\n    <tr style=\"text-align: right;\">\n      <th></th>\n      <th>순위</th>\n      <th>곡명</th>\n      <th>가수</th>\n      <th>앨범</th>\n      <th>사진</th>\n    </tr>\n  </thead>\n  <tbody>\n    <tr>\n      <th>95</th>\n      <td>96</td>\n      <td>혼술하고 싶은 밤</td>\n      <td>벤</td>\n      <td>혼술하고 싶은 밤</td>\n      <td>https://cdnimg.melon.co.kr/cm2/album/images/10...</td>\n    </tr>\n    <tr>\n      <th>96</th>\n      <td>97</td>\n      <td>죄와벌</td>\n      <td>SG 워너비</td>\n      <td>살다가</td>\n      <td>https://cdnimg.melon.co.kr/cm2/album/images/10...</td>\n    </tr>\n    <tr>\n      <th>97</th>\n      <td>98</td>\n      <td>되풀이</td>\n      <td>임창정</td>\n      <td>펜트하우스2 OST Part.1</td>\n      <td>https://cdnimg.melon.co.kr/cm2/album/images/10...</td>\n    </tr>\n    <tr>\n      <th>98</th>\n      <td>99</td>\n      <td>고래 (Dive Into You)</td>\n      <td>NCT DREAM</td>\n      <td>맛 (Hot Sauce) - The 1st Album</td>\n      <td>https://cdnimg.melon.co.kr/cm2/album/images/10...</td>\n    </tr>\n    <tr>\n      <th>99</th>\n      <td>100</td>\n      <td>돌림노래 (Feat. DEAN)</td>\n      <td>아이유</td>\n      <td>IU 5th Album 'LILAC'</td>\n      <td>https://cdnimg.melon.co.kr/cm2/album/images/10...</td>\n    </tr>\n  </tbody>\n</table>\n</div>"
     },
     "metadata": {},
     "execution_count": 65
    }
   ],
   "source": [
    "df.tail()"
   ]
  },
  {
   "source": [
    "### sol]"
   ],
   "cell_type": "markdown",
   "metadata": {}
  },
  {
   "cell_type": "code",
   "execution_count": 68,
   "metadata": {},
   "outputs": [
    {
     "output_type": "execute_result",
     "data": {
      "text/plain": [
       "bs4.element.ResultSet"
      ]
     },
     "metadata": {},
     "execution_count": 68
    }
   ],
   "source": [
    "type(trs)"
   ]
  },
  {
   "cell_type": "code",
   "execution_count": 67,
   "metadata": {},
   "outputs": [
    {
     "output_type": "execute_result",
     "data": {
      "text/plain": [
       "100"
      ]
     },
     "metadata": {},
     "execution_count": 67
    }
   ],
   "source": [
    "trs = soup.select(\"#lst50\") \n",
    "trs2 = soup.select(\"#lst100\") \n",
    "trs.extend(trs2)  # bs4.element.ResultSet 합치기\n",
    "len(trs)"
   ]
  },
  {
   "cell_type": "code",
   "execution_count": 69,
   "metadata": {},
   "outputs": [],
   "source": [
    "rank_list, title_list, artist_list, album_list, image_list = [],[],[],[],[]\n",
    "# top 100\n",
    "for tr in trs:\n",
    "    rank = tr.select_one('.rank').string \n",
    "    rank = int(rank) \n",
    "    title = tr.select_one(\".ellipsis.rank01\")\n",
    "    title = title.find('a').get_text() \n",
    "    artist = tr.select_one(\".ellipsis.rank02\")\n",
    "    artist = artist.find('a').get_text()\n",
    "    album  = tr.select_one(\".ellipsis.rank03\")\n",
    "    album = album.find('a').string\n",
    "    image = trs[0].select_one('.image_typeAll').find('img') \n",
    "    image = image['src'] \n",
    "\n",
    "    rank_list.append(rank)\n",
    "    title_list.append(title)\n",
    "    artist_list.append(artist)\n",
    "    album_list.append(album)\n",
    "    image_list.append(image)"
   ]
  },
  {
   "cell_type": "code",
   "execution_count": 71,
   "metadata": {},
   "outputs": [
    {
     "output_type": "execute_result",
     "data": {
      "text/plain": [
       "   순위                                      곡명                 가수  \\\n",
       "0   1                                  Butter              방탄소년단   \n",
       "1   2                           Dun Dun Dance  오마이걸 (OH MY GIRL)   \n",
       "2   3  Peaches (Feat. Daniel Caesar & Giveon)      Justin Bieber   \n",
       "3   4                                   헤픈 우연        헤이즈 (Heize)   \n",
       "4   5                            롤린 (Rollin')             브레이브걸스   \n",
       "\n",
       "              앨범                                                 사진  \n",
       "0         Butter  https://cdnimg.melon.co.kr/cm2/album/images/10...  \n",
       "1  Dear OHMYGIRL  https://cdnimg.melon.co.kr/cm2/album/images/10...  \n",
       "2        Justice  https://cdnimg.melon.co.kr/cm2/album/images/10...  \n",
       "3         HAPPEN  https://cdnimg.melon.co.kr/cm2/album/images/10...  \n",
       "4        Rollin'  https://cdnimg.melon.co.kr/cm2/album/images/10...  "
      ],
      "text/html": "<div>\n<style scoped>\n    .dataframe tbody tr th:only-of-type {\n        vertical-align: middle;\n    }\n\n    .dataframe tbody tr th {\n        vertical-align: top;\n    }\n\n    .dataframe thead th {\n        text-align: right;\n    }\n</style>\n<table border=\"1\" class=\"dataframe\">\n  <thead>\n    <tr style=\"text-align: right;\">\n      <th></th>\n      <th>순위</th>\n      <th>곡명</th>\n      <th>가수</th>\n      <th>앨범</th>\n      <th>사진</th>\n    </tr>\n  </thead>\n  <tbody>\n    <tr>\n      <th>0</th>\n      <td>1</td>\n      <td>Butter</td>\n      <td>방탄소년단</td>\n      <td>Butter</td>\n      <td>https://cdnimg.melon.co.kr/cm2/album/images/10...</td>\n    </tr>\n    <tr>\n      <th>1</th>\n      <td>2</td>\n      <td>Dun Dun Dance</td>\n      <td>오마이걸 (OH MY GIRL)</td>\n      <td>Dear OHMYGIRL</td>\n      <td>https://cdnimg.melon.co.kr/cm2/album/images/10...</td>\n    </tr>\n    <tr>\n      <th>2</th>\n      <td>3</td>\n      <td>Peaches (Feat. Daniel Caesar &amp; Giveon)</td>\n      <td>Justin Bieber</td>\n      <td>Justice</td>\n      <td>https://cdnimg.melon.co.kr/cm2/album/images/10...</td>\n    </tr>\n    <tr>\n      <th>3</th>\n      <td>4</td>\n      <td>헤픈 우연</td>\n      <td>헤이즈 (Heize)</td>\n      <td>HAPPEN</td>\n      <td>https://cdnimg.melon.co.kr/cm2/album/images/10...</td>\n    </tr>\n    <tr>\n      <th>4</th>\n      <td>5</td>\n      <td>롤린 (Rollin')</td>\n      <td>브레이브걸스</td>\n      <td>Rollin'</td>\n      <td>https://cdnimg.melon.co.kr/cm2/album/images/10...</td>\n    </tr>\n  </tbody>\n</table>\n</div>"
     },
     "metadata": {},
     "execution_count": 71
    }
   ],
   "source": [
    "df = pd.DataFrame({\n",
    "    '순위' : rank_list,\n",
    "    '곡명' : title_list,\n",
    "    '가수': artist_list,\n",
    "    '앨범': album_list,\n",
    "    '사진': image_list\n",
    "})\n",
    "df.head()"
   ]
  },
  {
   "cell_type": "code",
   "execution_count": 72,
   "metadata": {},
   "outputs": [
    {
     "output_type": "execute_result",
     "data": {
      "text/plain": [
       "     순위                  곡명         가수                             앨범  \\\n",
       "95   96           혼술하고 싶은 밤          벤                      혼술하고 싶은 밤   \n",
       "96   97                 죄와벌     SG 워너비                            살다가   \n",
       "97   98                 되풀이        임창정              펜트하우스2 OST Part.1   \n",
       "98   99  고래 (Dive Into You)  NCT DREAM  맛 (Hot Sauce) - The 1st Album   \n",
       "99  100   돌림노래 (Feat. DEAN)        아이유           IU 5th Album 'LILAC'   \n",
       "\n",
       "                                                   사진  \n",
       "95  https://cdnimg.melon.co.kr/cm2/album/images/10...  \n",
       "96  https://cdnimg.melon.co.kr/cm2/album/images/10...  \n",
       "97  https://cdnimg.melon.co.kr/cm2/album/images/10...  \n",
       "98  https://cdnimg.melon.co.kr/cm2/album/images/10...  \n",
       "99  https://cdnimg.melon.co.kr/cm2/album/images/10...  "
      ],
      "text/html": "<div>\n<style scoped>\n    .dataframe tbody tr th:only-of-type {\n        vertical-align: middle;\n    }\n\n    .dataframe tbody tr th {\n        vertical-align: top;\n    }\n\n    .dataframe thead th {\n        text-align: right;\n    }\n</style>\n<table border=\"1\" class=\"dataframe\">\n  <thead>\n    <tr style=\"text-align: right;\">\n      <th></th>\n      <th>순위</th>\n      <th>곡명</th>\n      <th>가수</th>\n      <th>앨범</th>\n      <th>사진</th>\n    </tr>\n  </thead>\n  <tbody>\n    <tr>\n      <th>95</th>\n      <td>96</td>\n      <td>혼술하고 싶은 밤</td>\n      <td>벤</td>\n      <td>혼술하고 싶은 밤</td>\n      <td>https://cdnimg.melon.co.kr/cm2/album/images/10...</td>\n    </tr>\n    <tr>\n      <th>96</th>\n      <td>97</td>\n      <td>죄와벌</td>\n      <td>SG 워너비</td>\n      <td>살다가</td>\n      <td>https://cdnimg.melon.co.kr/cm2/album/images/10...</td>\n    </tr>\n    <tr>\n      <th>97</th>\n      <td>98</td>\n      <td>되풀이</td>\n      <td>임창정</td>\n      <td>펜트하우스2 OST Part.1</td>\n      <td>https://cdnimg.melon.co.kr/cm2/album/images/10...</td>\n    </tr>\n    <tr>\n      <th>98</th>\n      <td>99</td>\n      <td>고래 (Dive Into You)</td>\n      <td>NCT DREAM</td>\n      <td>맛 (Hot Sauce) - The 1st Album</td>\n      <td>https://cdnimg.melon.co.kr/cm2/album/images/10...</td>\n    </tr>\n    <tr>\n      <th>99</th>\n      <td>100</td>\n      <td>돌림노래 (Feat. DEAN)</td>\n      <td>아이유</td>\n      <td>IU 5th Album 'LILAC'</td>\n      <td>https://cdnimg.melon.co.kr/cm2/album/images/10...</td>\n    </tr>\n  </tbody>\n</table>\n</div>"
     },
     "metadata": {},
     "execution_count": 72
    }
   ],
   "source": [
    "df.tail()"
   ]
  },
  {
   "source": [
    "### 파일에 저장하기"
   ],
   "cell_type": "markdown",
   "metadata": {}
  },
  {
   "source": [
    "period = soup.select_one('.yyyymmdd').get_text().strip()\n",
    "period"
   ],
   "cell_type": "code",
   "metadata": {},
   "execution_count": 79,
   "outputs": [
    {
     "output_type": "execute_result",
     "data": {
      "text/plain": [
       "'2021.05.24 ~ 2021.05.30'"
      ]
     },
     "metadata": {},
     "execution_count": 79
    }
   ]
  },
  {
   "cell_type": "code",
   "execution_count": 83,
   "metadata": {},
   "outputs": [],
   "source": [
    "filename = f'melon({period}).csv'\n",
    "df.to_csv(filename, index =False, sep = ',', encoding= 'utf8')"
   ]
  }
 ]
}