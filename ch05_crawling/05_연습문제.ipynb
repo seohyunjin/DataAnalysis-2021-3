{
 "metadata": {
  "language_info": {
   "codemirror_mode": {
    "name": "ipython",
    "version": 3
   },
   "file_extension": ".py",
   "mimetype": "text/x-python",
   "name": "python",
   "nbconvert_exporter": "python",
   "pygments_lexer": "ipython3",
   "version": "3.8.10"
  },
  "orig_nbformat": 2,
  "kernelspec": {
   "name": "python3810jvsc74a57bd062451998a06cf5ba2746f3d8b4c2b71aad3b2e1f1be2af1479ae958b50a1bdcf",
   "display_name": "Python 3.8.10 64-bit ('pythonHK': conda)"
  }
 },
 "nbformat": 4,
 "nbformat_minor": 2,
 "cells": [
  {
   "source": [
    "# 망고플레이트 "
   ],
   "cell_type": "markdown",
   "metadata": {}
  },
  {
   "cell_type": "code",
   "execution_count": 3,
   "metadata": {},
   "outputs": [],
   "source": [
    "import requests\n",
    "from urllib.parse import quote\n",
    "import pandas as pd\n",
    "\n",
    "import time\n",
    "from selenium import webdriver\n",
    "from selenium.webdriver.common.keys import Keys"
   ]
  },
  {
   "cell_type": "code",
   "execution_count": 220,
   "metadata": {},
   "outputs": [],
   "source": [
    "driver = webdriver.Chrome()\n",
    "url = 'https://www.mangoplate.com/'\n",
    "driver.get(url)"
   ]
  },
  {
   "cell_type": "code",
   "execution_count": 221,
   "metadata": {},
   "outputs": [],
   "source": [
    "search_box = driver.find_element_by_css_selector('.HomeSearchInput')  # 검색창 위치 찾기\n",
    "search_box.send_keys('충정로역 맛집')"
   ]
  },
  {
   "cell_type": "code",
   "execution_count": 222,
   "metadata": {},
   "outputs": [],
   "source": [
    "search_box.send_keys(Keys.ENTER) #ENTER키작동 : send_keys(Keys.ENTER)\n",
    "time.sleep(1)"
   ]
  },
  {
   "cell_type": "code",
   "execution_count": 225,
   "metadata": {},
   "outputs": [
    {
     "output_type": "execute_result",
     "data": {
      "text/plain": [
       "['https://www.mangoplate.com/restaurants/fvA4SbtNcpuV',\n",
       " 'https://www.mangoplate.com/restaurants/fvA4SbtNcpuV',\n",
       " 'https://www.mangoplate.com/restaurants/n2wYUUUjUG',\n",
       " 'https://www.mangoplate.com/restaurants/n2wYUUUjUG',\n",
       " 'https://www.mangoplate.com/restaurants/jcaMykd0aP3V',\n",
       " 'https://www.mangoplate.com/restaurants/jcaMykd0aP3V',\n",
       " 'https://www.mangoplate.com/restaurants/Hu3mZg80M4',\n",
       " 'https://www.mangoplate.com/restaurants/Hu3mZg80M4',\n",
       " 'https://www.mangoplate.com/restaurants/FXIe9ll_gX',\n",
       " 'https://www.mangoplate.com/restaurants/FXIe9ll_gX',\n",
       " 'https://www.mangoplate.com/restaurants/ysFkTcAL8L01',\n",
       " 'https://www.mangoplate.com/restaurants/ysFkTcAL8L01',\n",
       " 'https://www.mangoplate.com/restaurants/CRtATtEw-A',\n",
       " 'https://www.mangoplate.com/restaurants/CRtATtEw-A',\n",
       " 'https://www.mangoplate.com/restaurants/UALLRLlYwM',\n",
       " 'https://www.mangoplate.com/restaurants/UALLRLlYwM',\n",
       " 'https://www.mangoplate.com/restaurants/jTcfGUCecdeM',\n",
       " 'https://www.mangoplate.com/restaurants/jTcfGUCecdeM',\n",
       " 'https://www.mangoplate.com/restaurants/FYEtdjxCMeUp',\n",
       " 'https://www.mangoplate.com/restaurants/FYEtdjxCMeUp',\n",
       " 'https://www.mangoplate.com/restaurants/Z3ELf7L38r',\n",
       " 'https://www.mangoplate.com/restaurants/Z3ELf7L38r',\n",
       " 'https://www.mangoplate.com/restaurants/I6lGHgPUyQ',\n",
       " 'https://www.mangoplate.com/restaurants/I6lGHgPUyQ',\n",
       " 'https://www.mangoplate.com/restaurants/3N4bADRuxuuy',\n",
       " 'https://www.mangoplate.com/restaurants/3N4bADRuxuuy',\n",
       " 'https://www.mangoplate.com/restaurants/0LX_cOFlq9gF',\n",
       " 'https://www.mangoplate.com/restaurants/0LX_cOFlq9gF',\n",
       " 'https://www.mangoplate.com/restaurants/ULcnAz91fi',\n",
       " 'https://www.mangoplate.com/restaurants/ULcnAz91fi',\n",
       " 'https://www.mangoplate.com/restaurants/faN1mwQ3famg',\n",
       " 'https://www.mangoplate.com/restaurants/faN1mwQ3famg',\n",
       " 'https://www.mangoplate.com/restaurants/jibhjrZgg7iZ',\n",
       " 'https://www.mangoplate.com/restaurants/jibhjrZgg7iZ',\n",
       " 'https://www.mangoplate.com/restaurants/YoqFlGs2yJMk',\n",
       " 'https://www.mangoplate.com/restaurants/YoqFlGs2yJMk',\n",
       " 'https://www.mangoplate.com/restaurants/MHdHa7O9oy',\n",
       " 'https://www.mangoplate.com/restaurants/MHdHa7O9oy',\n",
       " 'https://www.mangoplate.com/restaurants/6ZB7IMulnuT2',\n",
       " 'https://www.mangoplate.com/restaurants/6ZB7IMulnuT2']"
      ]
     },
     "metadata": {},
     "execution_count": 225
    }
   ],
   "source": [
    "# 사이트 추가 접속 정보추출 #추가접속할 주소리스트 : href_list_real\n",
    "elems = driver.find_elements_by_xpath(\"//a[@href]\")\n",
    "href_list = []\n",
    "for elem in elems:\n",
    "    href_list.append(elem.get_attribute(\"href\"))\n",
    "href_list_real=[]\n",
    "for i in range(len(divs)): #len(href_list)\n",
    "    if 'restaurants' in href_list[i]:\n",
    "        href_list_real.append(href_list[i])\n",
    "href_list_real"
   ]
  },
  {
   "cell_type": "code",
   "execution_count": 226,
   "metadata": {},
   "outputs": [
    {
     "output_type": "execute_result",
     "data": {
      "text/plain": [
       "['https://www.mangoplate.com/restaurants/fvA4SbtNcpuV',\n",
       " 'https://www.mangoplate.com/restaurants/n2wYUUUjUG',\n",
       " 'https://www.mangoplate.com/restaurants/jcaMykd0aP3V',\n",
       " 'https://www.mangoplate.com/restaurants/Hu3mZg80M4',\n",
       " 'https://www.mangoplate.com/restaurants/FXIe9ll_gX',\n",
       " 'https://www.mangoplate.com/restaurants/ysFkTcAL8L01',\n",
       " 'https://www.mangoplate.com/restaurants/CRtATtEw-A',\n",
       " 'https://www.mangoplate.com/restaurants/UALLRLlYwM',\n",
       " 'https://www.mangoplate.com/restaurants/jTcfGUCecdeM',\n",
       " 'https://www.mangoplate.com/restaurants/FYEtdjxCMeUp',\n",
       " 'https://www.mangoplate.com/restaurants/Z3ELf7L38r',\n",
       " 'https://www.mangoplate.com/restaurants/I6lGHgPUyQ',\n",
       " 'https://www.mangoplate.com/restaurants/3N4bADRuxuuy',\n",
       " 'https://www.mangoplate.com/restaurants/0LX_cOFlq9gF',\n",
       " 'https://www.mangoplate.com/restaurants/ULcnAz91fi',\n",
       " 'https://www.mangoplate.com/restaurants/faN1mwQ3famg',\n",
       " 'https://www.mangoplate.com/restaurants/jibhjrZgg7iZ',\n",
       " 'https://www.mangoplate.com/restaurants/YoqFlGs2yJMk',\n",
       " 'https://www.mangoplate.com/restaurants/MHdHa7O9oy',\n",
       " 'https://www.mangoplate.com/restaurants/6ZB7IMulnuT2']"
      ]
     },
     "metadata": {},
     "execution_count": 226
    }
   ],
   "source": [
    "href_list_real2 = []\n",
    "for i in range(len(href_list_real)):\n",
    "    if i % 2 == 0:\n",
    "       href_list_real2.append(href_list_real[i])\n",
    "href_list_real2"
   ]
  },
  {
   "cell_type": "code",
   "execution_count": 227,
   "metadata": {},
   "outputs": [],
   "source": [
    "title_list, content_list, addr_list , phone_list =[],[],[],[]\n",
    "\n",
    "for i in range(len(href_list_real2)): # len(href_list_real)\n",
    "    driver.get(href_list_real2[i])\n",
    "\n",
    "    title = driver.find_element_by_css_selector('.restaurant_name').text\n",
    "    title_list.append(title)\n",
    "\n",
    "    content = driver.find_element_by_css_selector('.cnt.hit').text\n",
    "    content_list.append(content)\n",
    "\n",
    "    # 테이블속 정보 수집\n",
    "    table = driver.find_element_by_css_selector(\".info\" )\n",
    "    table.find_elements_by_tag_name('tbody')\n",
    "    tsld=[]\n",
    "    for td in table.find_elements_by_tag_name('td'):\n",
    "        tsld.append(td)\n",
    "    phone_list.append(tsld[1].text) # 전화번호\n",
    "    addr_list.append(tsld[0].text) # 주소\n",
    " "
   ]
  },
  {
   "cell_type": "code",
   "execution_count": 230,
   "metadata": {},
   "outputs": [
    {
     "output_type": "execute_result",
     "data": {
      "text/plain": [
       "           상호명     관심도           전화번호  \\\n",
       "0        위드미치코  48,132    02-362-1394   \n",
       "1          고릴라  13,741    02-312-3541   \n",
       "2        옐로우보울  19,760   02-6364-4961   \n",
       "3        철길떡볶이  21,286    02-364-3440   \n",
       "4          충정각   8,689    02-313-0424   \n",
       "5        양드림식당   5,699   02-6180-1588   \n",
       "6          깐쪼네   4,485    02-393-4333   \n",
       "7         깐부치킨   4,393    02-313-9282   \n",
       "8         청안식탁   5,368    02-363-7890   \n",
       "9          에뚜왈   3,964    02-913-7604   \n",
       "10         세양원   4,901    02-312-2701   \n",
       "11        봉추찜닭   3,229    02-393-6981   \n",
       "12        해주면가   3,076    02-364-3650   \n",
       "13     작은언덕 카페     643  010-8778-5979   \n",
       "14   곽대리꼼대리닭대리   2,881    02-312-6063   \n",
       "15        대피공간     419  070-4189-4809   \n",
       "16         벙커1   7,615    02-762-7607   \n",
       "17  마포갈비생고기전문점     739    02-312-5989   \n",
       "18         히비야   4,486    02-393-6193   \n",
       "19   남대문할매인삼족발   3,455    02-365-7079   \n",
       "\n",
       "                                                   주소  \n",
       "0            서울특별시 서대문구 충정로 20\\n지번 서울시 서대문구 충정로3가 268  \n",
       "1          서울특별시 서대문구 충정로 22-2\\n지번 서울시 서대문구 충정로3가 272  \n",
       "2   서울특별시 서대문구 충정로 7 구세군빌딩\\n지번 서울시 서대문구 충정로3가 476 ...  \n",
       "3        서울특별시 서대문구 충정로 35-6\\n지번 서울시 서대문구 충정로3가 143-2  \n",
       "4   서울특별시 서대문구 충정로2길 8 1F\\n지번 서울시 서대문구 충정로3가 360-2...  \n",
       "5           서울특별시 중구 서소문로6길 12\\n지번 서울시 중구 중림동 156-120  \n",
       "6          서울특별시 서대문구 경기대로 23\\n지번 서울시 서대문구 충정로3가 31-1  \n",
       "7                 서울특별시 중구 서소문로 38\\n지번 서울시 중구 중림동 500  \n",
       "8        서울특별시 서대문구 충정로4길 21\\n지번 서울시 서대문구 충정로3가 282-2  \n",
       "9        서울특별시 서대문구 충정로4길 28\\n지번 서울시 서대문구 충정로3가 348-1  \n",
       "10            서울특별시 서대문구 충정로 8\\n지번 서울시 서대문구 충정로3가 368  \n",
       "11          서울특별시 서대문구 충정로 13\\n지번 서울시 서대문구 충정로3가 63-1  \n",
       "12  서울특별시 서대문구 서소문로 27 충정리시온\\n지번 서울시 서대문구 충정로3가 46...  \n",
       "13    서울특별시 중구 서소문로 32-15 1F\\n지번 서울시 중구 중림동 156-93 1F  \n",
       "14              서울특별시 중구 서소문로 12\\n지번 서울시 중구 중림동 398-6  \n",
       "15  서울특별시 서대문구 충정로4길 5-6 1F\\n지번 서울시 서대문구 충정로3가 250...  \n",
       "16           서울특별시 서대문구 충정로 20\\n지번 서울시 서대문구 충정로3가 268  \n",
       "17       서울특별시 서대문구 경기대로 36\\n지번 서울시 서대문구 충정로3가 128-10  \n",
       "18            서울특별시 서대문구 충정로 8\\n지번 서울시 서대문구 충정로3가 368  \n",
       "19              서울특별시 중구 중림로 9-1\\n지번 서울시 중구 중림동 187-1  "
      ],
      "text/html": "<div>\n<style scoped>\n    .dataframe tbody tr th:only-of-type {\n        vertical-align: middle;\n    }\n\n    .dataframe tbody tr th {\n        vertical-align: top;\n    }\n\n    .dataframe thead th {\n        text-align: right;\n    }\n</style>\n<table border=\"1\" class=\"dataframe\">\n  <thead>\n    <tr style=\"text-align: right;\">\n      <th></th>\n      <th>상호명</th>\n      <th>관심도</th>\n      <th>전화번호</th>\n      <th>주소</th>\n    </tr>\n  </thead>\n  <tbody>\n    <tr>\n      <th>0</th>\n      <td>위드미치코</td>\n      <td>48,132</td>\n      <td>02-362-1394</td>\n      <td>서울특별시 서대문구 충정로 20\\n지번 서울시 서대문구 충정로3가 268</td>\n    </tr>\n    <tr>\n      <th>1</th>\n      <td>고릴라</td>\n      <td>13,741</td>\n      <td>02-312-3541</td>\n      <td>서울특별시 서대문구 충정로 22-2\\n지번 서울시 서대문구 충정로3가 272</td>\n    </tr>\n    <tr>\n      <th>2</th>\n      <td>옐로우보울</td>\n      <td>19,760</td>\n      <td>02-6364-4961</td>\n      <td>서울특별시 서대문구 충정로 7 구세군빌딩\\n지번 서울시 서대문구 충정로3가 476 ...</td>\n    </tr>\n    <tr>\n      <th>3</th>\n      <td>철길떡볶이</td>\n      <td>21,286</td>\n      <td>02-364-3440</td>\n      <td>서울특별시 서대문구 충정로 35-6\\n지번 서울시 서대문구 충정로3가 143-2</td>\n    </tr>\n    <tr>\n      <th>4</th>\n      <td>충정각</td>\n      <td>8,689</td>\n      <td>02-313-0424</td>\n      <td>서울특별시 서대문구 충정로2길 8 1F\\n지번 서울시 서대문구 충정로3가 360-2...</td>\n    </tr>\n    <tr>\n      <th>5</th>\n      <td>양드림식당</td>\n      <td>5,699</td>\n      <td>02-6180-1588</td>\n      <td>서울특별시 중구 서소문로6길 12\\n지번 서울시 중구 중림동 156-120</td>\n    </tr>\n    <tr>\n      <th>6</th>\n      <td>깐쪼네</td>\n      <td>4,485</td>\n      <td>02-393-4333</td>\n      <td>서울특별시 서대문구 경기대로 23\\n지번 서울시 서대문구 충정로3가 31-1</td>\n    </tr>\n    <tr>\n      <th>7</th>\n      <td>깐부치킨</td>\n      <td>4,393</td>\n      <td>02-313-9282</td>\n      <td>서울특별시 중구 서소문로 38\\n지번 서울시 중구 중림동 500</td>\n    </tr>\n    <tr>\n      <th>8</th>\n      <td>청안식탁</td>\n      <td>5,368</td>\n      <td>02-363-7890</td>\n      <td>서울특별시 서대문구 충정로4길 21\\n지번 서울시 서대문구 충정로3가 282-2</td>\n    </tr>\n    <tr>\n      <th>9</th>\n      <td>에뚜왈</td>\n      <td>3,964</td>\n      <td>02-913-7604</td>\n      <td>서울특별시 서대문구 충정로4길 28\\n지번 서울시 서대문구 충정로3가 348-1</td>\n    </tr>\n    <tr>\n      <th>10</th>\n      <td>세양원</td>\n      <td>4,901</td>\n      <td>02-312-2701</td>\n      <td>서울특별시 서대문구 충정로 8\\n지번 서울시 서대문구 충정로3가 368</td>\n    </tr>\n    <tr>\n      <th>11</th>\n      <td>봉추찜닭</td>\n      <td>3,229</td>\n      <td>02-393-6981</td>\n      <td>서울특별시 서대문구 충정로 13\\n지번 서울시 서대문구 충정로3가 63-1</td>\n    </tr>\n    <tr>\n      <th>12</th>\n      <td>해주면가</td>\n      <td>3,076</td>\n      <td>02-364-3650</td>\n      <td>서울특별시 서대문구 서소문로 27 충정리시온\\n지번 서울시 서대문구 충정로3가 46...</td>\n    </tr>\n    <tr>\n      <th>13</th>\n      <td>작은언덕 카페</td>\n      <td>643</td>\n      <td>010-8778-5979</td>\n      <td>서울특별시 중구 서소문로 32-15 1F\\n지번 서울시 중구 중림동 156-93 1F</td>\n    </tr>\n    <tr>\n      <th>14</th>\n      <td>곽대리꼼대리닭대리</td>\n      <td>2,881</td>\n      <td>02-312-6063</td>\n      <td>서울특별시 중구 서소문로 12\\n지번 서울시 중구 중림동 398-6</td>\n    </tr>\n    <tr>\n      <th>15</th>\n      <td>대피공간</td>\n      <td>419</td>\n      <td>070-4189-4809</td>\n      <td>서울특별시 서대문구 충정로4길 5-6 1F\\n지번 서울시 서대문구 충정로3가 250...</td>\n    </tr>\n    <tr>\n      <th>16</th>\n      <td>벙커1</td>\n      <td>7,615</td>\n      <td>02-762-7607</td>\n      <td>서울특별시 서대문구 충정로 20\\n지번 서울시 서대문구 충정로3가 268</td>\n    </tr>\n    <tr>\n      <th>17</th>\n      <td>마포갈비생고기전문점</td>\n      <td>739</td>\n      <td>02-312-5989</td>\n      <td>서울특별시 서대문구 경기대로 36\\n지번 서울시 서대문구 충정로3가 128-10</td>\n    </tr>\n    <tr>\n      <th>18</th>\n      <td>히비야</td>\n      <td>4,486</td>\n      <td>02-393-6193</td>\n      <td>서울특별시 서대문구 충정로 8\\n지번 서울시 서대문구 충정로3가 368</td>\n    </tr>\n    <tr>\n      <th>19</th>\n      <td>남대문할매인삼족발</td>\n      <td>3,455</td>\n      <td>02-365-7079</td>\n      <td>서울특별시 중구 중림로 9-1\\n지번 서울시 중구 중림동 187-1</td>\n    </tr>\n  </tbody>\n</table>\n</div>"
     },
     "metadata": {},
     "execution_count": 230
    }
   ],
   "source": [
    "mango_plate=pd.DataFrame({\n",
    "    '상호명' : title_list,\n",
    "    '관심도': content_list,\n",
    "    '전화번호' : phone_list,\n",
    "    '주소' : addr_list\n",
    "})\n",
    "mango_plate"
   ]
  },
  {
   "source": [
    "###########################"
   ],
   "cell_type": "markdown",
   "metadata": {}
  },
  {
   "cell_type": "code",
   "execution_count": 194,
   "metadata": {},
   "outputs": [
    {
     "output_type": "execute_result",
     "data": {
      "text/plain": [
       "'일'"
      ]
     },
     "metadata": {},
     "execution_count": 194
    }
   ],
   "source": [
    "# 연습] 테이블 정보 가져오기 \n",
    "table = driver.find_element_by_css_selector(\".info.no_menu\")\n",
    "table.find_elements_by_tag_name('tbody')\n",
    "tsld=[]\n",
    "for td in table.find_elements_by_tag_name('td'):\n",
    "    tsld.append(td)\n",
    "tsld[1].text # 전화번호\n",
    "tsld[2].text # 요리종류\n",
    "tsld[3].text # 가격대\n",
    "tsld[4].text # 주차공간\n",
    "tsld[5].text # 영업시간\n",
    "tsld[6].text # 휴일"
   ]
  },
  {
   "cell_type": "code",
   "execution_count": null,
   "metadata": {},
   "outputs": [],
   "source": [
    "#### 연습] 전화번호 href 로 가져오기\n",
    "# 간단하게 한줄로 \n",
    "elems = driver.find_elements_by_xpath(\"//a[@href]\")\n",
    "elems[0].get_attribute(\"href\")\n",
    "# but 데이터 프레임 만들 때 정상적으로 수집되지 않았음 확인"
   ]
  }
 ]
}