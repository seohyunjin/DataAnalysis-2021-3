{
 "metadata": {
  "language_info": {
   "codemirror_mode": {
    "name": "ipython",
    "version": 3
   },
   "file_extension": ".py",
   "mimetype": "text/x-python",
   "name": "python",
   "nbconvert_exporter": "python",
   "pygments_lexer": "ipython3",
   "version": "3.8.5"
  },
  "orig_nbformat": 2,
  "kernelspec": {
   "name": "python385jvsc74a57bd08c1eae21719a0790335dcb83aad72b63b602cfe5cdb2bda0f60bc11d4f154e4b",
   "display_name": "Python 3.8.5 64-bit ('base': conda)"
  }
 },
 "nbformat": 4,
 "nbformat_minor": 2,
 "cells": [
  {
   "source": [
    "# 망고플레이트 "
   ],
   "cell_type": "markdown",
   "metadata": {}
  },
  {
   "cell_type": "code",
   "execution_count": 13,
   "metadata": {},
   "outputs": [],
   "source": [
    "import requests\n",
    "from urllib.parse import quote\n",
    "import pandas as pd\n",
    "\n",
    "import time\n",
    "from selenium import webdriver\n",
    "from selenium.webdriver.common.keys import Keys"
   ]
  },
  {
   "cell_type": "code",
   "execution_count": 14,
   "metadata": {},
   "outputs": [],
   "source": [
    "driver = webdriver.Chrome()\n",
    "url = 'https://www.mangoplate.com/'\n",
    "driver.get(url)"
   ]
  },
  {
   "cell_type": "code",
   "execution_count": 21,
   "metadata": {},
   "outputs": [],
   "source": [
    "#팝업광고 다시보지않기 제거 : ad_btn ad_block_btn\n",
    "# driver.find_element_by_css_selector('.ad_btn.ad_block_btn').click()"
   ]
  },
  {
   "cell_type": "code",
   "execution_count": 19,
   "metadata": {},
   "outputs": [],
   "source": [
    "# 충정로역 맛집 검색  검색창 : HomeSearchInput\n",
    "search_box = driver.find_element_by_css_selector('.HomeSearchInput')  # 검색창 위치 찾기\n",
    "search_box.send_keys('충정로역 맛집')"
   ]
  },
  {
   "cell_type": "code",
   "execution_count": 20,
   "metadata": {},
   "outputs": [],
   "source": [
    "# enter\n",
    "search_box.send_keys(Keys.ENTER) #ENTER키작동 : send_keys(Keys.ENTER)\n",
    "time.sleep(1)"
   ]
  },
  {
   "cell_type": "code",
   "execution_count": 23,
   "metadata": {},
   "outputs": [
    {
     "output_type": "execute_result",
     "data": {
      "text/plain": [
       "40"
      ]
     },
     "metadata": {},
     "execution_count": 23
    }
   ],
   "source": [
    "# 데이터 가져오기\n",
    "divs = driver.find_elements_by_css_selector('.info')\n",
    "len(divs)"
   ]
  },
  {
   "cell_type": "code",
   "execution_count": 25,
   "metadata": {},
   "outputs": [
    {
     "output_type": "execute_result",
     "data": {
      "text/plain": [
       "<selenium.webdriver.remote.webelement.WebElement (session=\"9c3d2db349169c3e8e401c708e4c3a3a\", element=\"c41e5ff4-ff05-4332-8f56-66615f3e6645\")>"
      ]
     },
     "metadata": {},
     "execution_count": 25
    }
   ],
   "source": [
    "divs[0]"
   ]
  },
  {
   "cell_type": "code",
   "execution_count": 28,
   "metadata": {},
   "outputs": [
    {
     "output_type": "stream",
     "name": "stdout",
     "text": [
      "위드미치코\n",
      "고릴라\n",
      "옐로우보울\n",
      "철길떡볶이\n",
      "충정각\n",
      "양드림식당\n",
      "깐쪼네\n",
      "깐부치킨 (충정로역점)\n",
      "청안식탁\n",
      "에뚜왈 (충정로점)\n",
      "세양원\n",
      "봉추찜닭 (서대문(충정로)점)\n",
      "해주면가\n",
      "작은언덕 카페\n",
      "곽대리꼼대리닭대리\n",
      "대피공간\n",
      "벙커1\n",
      "마포갈비생고기전문점\n",
      "히비야\n",
      "남대문할매인삼족발\n"
     ]
    }
   ],
   "source": [
    "# title\n",
    "for i in range(20):\n",
    "    div = divs[i]\n",
    "    title = div.find_element_by_css_selector('.title').text\n",
    "    print(title)"
   ]
  },
  {
   "cell_type": "code",
   "execution_count": 29,
   "metadata": {},
   "outputs": [
    {
     "output_type": "stream",
     "name": "stdout",
     "text": [
      "서대문구 - 기타 한식\n",
      "서대문구 - 고기 요리\n",
      "서대문구 - 기타 양식\n",
      "서대문구 - 기타 한식\n",
      "서대문구 - 이탈리안\n",
      "중구 - 기타 중식\n",
      "서대문구 - 이탈리안\n",
      "시청/남대문 - 닭 / 오리 요리\n",
      "서대문구 - 닭 / 오리 요리\n",
      "서대문구 - 베이커리\n",
      "서대문구 - 정통 중식 / 일반 중식\n",
      "서대문구 - 닭 / 오리 요리\n",
      "서대문구 - 기타 한식\n",
      "중구 - 카페 / 디저트\n",
      "시청/남대문 - 닭 / 오리 요리\n",
      "서대문구 - 칵테일 / 와인\n",
      "서대문구 - 치킨 / 호프 / 펍\n",
      "서대문구 - 고기 요리\n",
      "서대문구 - 까스 요리\n",
      "중구 - 고기 요리\n"
     ]
    }
   ],
   "source": [
    "# 요약정보\n",
    "for i in range(20):\n",
    "    div = divs[i]\n",
    "    content = div.find_element_by_css_selector('.etc').text\n",
    "    print(content)"
   ]
  },
  {
   "source": [
    "## 클릭한번 더해서 들어가기\n"
   ],
   "cell_type": "markdown",
   "metadata": {}
  },
  {
   "cell_type": "code",
   "execution_count": 98,
   "metadata": {},
   "outputs": [],
   "source": [
    "elems = driver.find_elements_by_xpath(\"//a[@href]\")\n",
    "href_list = []\n",
    "for elem in elems:\n",
    "    href_list.append(elem.get_attribute(\"href\"))\n",
    "# href_list"
   ]
  },
  {
   "cell_type": "code",
   "execution_count": 97,
   "metadata": {},
   "outputs": [
    {
     "output_type": "execute_result",
     "data": {
      "text/plain": [
       "['https://www.mangoplate.com/restaurants/fvA4SbtNcpuV',\n",
       " 'https://www.mangoplate.com/restaurants/fvA4SbtNcpuV',\n",
       " 'https://www.mangoplate.com/restaurants/n2wYUUUjUG',\n",
       " 'https://www.mangoplate.com/restaurants/n2wYUUUjUG',\n",
       " 'https://www.mangoplate.com/restaurants/jcaMykd0aP3V',\n",
       " 'https://www.mangoplate.com/restaurants/jcaMykd0aP3V',\n",
       " 'https://www.mangoplate.com/restaurants/Hu3mZg80M4',\n",
       " 'https://www.mangoplate.com/restaurants/Hu3mZg80M4',\n",
       " 'https://www.mangoplate.com/restaurants/FXIe9ll_gX',\n",
       " 'https://www.mangoplate.com/restaurants/FXIe9ll_gX',\n",
       " 'https://www.mangoplate.com/restaurants/ysFkTcAL8L01',\n",
       " 'https://www.mangoplate.com/restaurants/ysFkTcAL8L01',\n",
       " 'https://www.mangoplate.com/restaurants/CRtATtEw-A',\n",
       " 'https://www.mangoplate.com/restaurants/CRtATtEw-A',\n",
       " 'https://www.mangoplate.com/restaurants/UALLRLlYwM',\n",
       " 'https://www.mangoplate.com/restaurants/UALLRLlYwM',\n",
       " 'https://www.mangoplate.com/restaurants/jTcfGUCecdeM',\n",
       " 'https://www.mangoplate.com/restaurants/jTcfGUCecdeM',\n",
       " 'https://www.mangoplate.com/restaurants/FYEtdjxCMeUp',\n",
       " 'https://www.mangoplate.com/restaurants/FYEtdjxCMeUp',\n",
       " 'https://www.mangoplate.com/restaurants/Z3ELf7L38r',\n",
       " 'https://www.mangoplate.com/restaurants/Z3ELf7L38r',\n",
       " 'https://www.mangoplate.com/restaurants/I6lGHgPUyQ',\n",
       " 'https://www.mangoplate.com/restaurants/I6lGHgPUyQ',\n",
       " 'https://www.mangoplate.com/restaurants/3N4bADRuxuuy',\n",
       " 'https://www.mangoplate.com/restaurants/3N4bADRuxuuy',\n",
       " 'https://www.mangoplate.com/restaurants/0LX_cOFlq9gF',\n",
       " 'https://www.mangoplate.com/restaurants/0LX_cOFlq9gF',\n",
       " 'https://www.mangoplate.com/restaurants/ULcnAz91fi',\n",
       " 'https://www.mangoplate.com/restaurants/ULcnAz91fi',\n",
       " 'https://www.mangoplate.com/restaurants/faN1mwQ3famg',\n",
       " 'https://www.mangoplate.com/restaurants/faN1mwQ3famg',\n",
       " 'https://www.mangoplate.com/restaurants/jibhjrZgg7iZ',\n",
       " 'https://www.mangoplate.com/restaurants/jibhjrZgg7iZ',\n",
       " 'https://www.mangoplate.com/restaurants/YoqFlGs2yJMk',\n",
       " 'https://www.mangoplate.com/restaurants/YoqFlGs2yJMk',\n",
       " 'https://www.mangoplate.com/restaurants/MHdHa7O9oy',\n",
       " 'https://www.mangoplate.com/restaurants/MHdHa7O9oy',\n",
       " 'https://www.mangoplate.com/restaurants/6ZB7IMulnuT2',\n",
       " 'https://www.mangoplate.com/restaurants/6ZB7IMulnuT2',\n",
       " 'https://www.mangoplate.com/restaurants/fvA4SbtNcpuV',\n",
       " 'https://www.mangoplate.com/restaurants/fvA4SbtNcpuV',\n",
       " 'https://www.mangoplate.com/restaurants/n2wYUUUjUG',\n",
       " 'https://www.mangoplate.com/restaurants/n2wYUUUjUG',\n",
       " 'https://www.mangoplate.com/restaurants/jcaMykd0aP3V',\n",
       " 'https://www.mangoplate.com/restaurants/jcaMykd0aP3V',\n",
       " 'https://www.mangoplate.com/restaurants/Hu3mZg80M4',\n",
       " 'https://www.mangoplate.com/restaurants/Hu3mZg80M4',\n",
       " 'https://www.mangoplate.com/restaurants/FXIe9ll_gX',\n",
       " 'https://www.mangoplate.com/restaurants/FXIe9ll_gX',\n",
       " 'https://www.mangoplate.com/restaurants/ysFkTcAL8L01',\n",
       " 'https://www.mangoplate.com/restaurants/ysFkTcAL8L01',\n",
       " 'https://www.mangoplate.com/restaurants/CRtATtEw-A',\n",
       " 'https://www.mangoplate.com/restaurants/CRtATtEw-A',\n",
       " 'https://www.mangoplate.com/restaurants/UALLRLlYwM',\n",
       " 'https://www.mangoplate.com/restaurants/UALLRLlYwM',\n",
       " 'https://www.mangoplate.com/restaurants/jTcfGUCecdeM',\n",
       " 'https://www.mangoplate.com/restaurants/jTcfGUCecdeM',\n",
       " 'https://www.mangoplate.com/restaurants/FYEtdjxCMeUp',\n",
       " 'https://www.mangoplate.com/restaurants/FYEtdjxCMeUp',\n",
       " 'https://www.mangoplate.com/restaurants/Z3ELf7L38r',\n",
       " 'https://www.mangoplate.com/restaurants/Z3ELf7L38r',\n",
       " 'https://www.mangoplate.com/restaurants/I6lGHgPUyQ',\n",
       " 'https://www.mangoplate.com/restaurants/I6lGHgPUyQ',\n",
       " 'https://www.mangoplate.com/restaurants/3N4bADRuxuuy',\n",
       " 'https://www.mangoplate.com/restaurants/3N4bADRuxuuy',\n",
       " 'https://www.mangoplate.com/restaurants/0LX_cOFlq9gF',\n",
       " 'https://www.mangoplate.com/restaurants/0LX_cOFlq9gF',\n",
       " 'https://www.mangoplate.com/restaurants/ULcnAz91fi',\n",
       " 'https://www.mangoplate.com/restaurants/ULcnAz91fi',\n",
       " 'https://www.mangoplate.com/restaurants/faN1mwQ3famg',\n",
       " 'https://www.mangoplate.com/restaurants/faN1mwQ3famg',\n",
       " 'https://www.mangoplate.com/restaurants/jibhjrZgg7iZ',\n",
       " 'https://www.mangoplate.com/restaurants/jibhjrZgg7iZ',\n",
       " 'https://www.mangoplate.com/restaurants/YoqFlGs2yJMk',\n",
       " 'https://www.mangoplate.com/restaurants/YoqFlGs2yJMk',\n",
       " 'https://www.mangoplate.com/restaurants/MHdHa7O9oy',\n",
       " 'https://www.mangoplate.com/restaurants/MHdHa7O9oy',\n",
       " 'https://www.mangoplate.com/restaurants/6ZB7IMulnuT2',\n",
       " 'https://www.mangoplate.com/restaurants/6ZB7IMulnuT2']"
      ]
     },
     "metadata": {},
     "execution_count": 97
    }
   ],
   "source": [
    "# 진짜 두번 클릭할 href만을 추출\n",
    "elems = driver.find_elements_by_xpath(\"//a[@href]\")\n",
    "href_list = []\n",
    "for elem in elems:\n",
    "    href_list.append(elem.get_attribute(\"href\"))\n",
    "href_list_real=[]\n",
    "for i in range(len(href_list)):\n",
    "    if 'restaurants' in href_list[i]:\n",
    "        href_list_real.append(href_list[i])\n",
    "href_list_real"
   ]
  },
  {
   "cell_type": "code",
   "execution_count": 103,
   "metadata": {},
   "outputs": [],
   "source": [
    "driver.get(href_list_real[0])"
   ]
  },
  {
   "cell_type": "code",
   "execution_count": 107,
   "metadata": {},
   "outputs": [
    {
     "output_type": "execute_result",
     "data": {
      "text/plain": [
       "'지번 서울시 서대문구 충정로3가 268'"
      ]
     },
     "metadata": {},
     "execution_count": 107
    }
   ],
   "source": [
    "# 상세주소 Restaurant__InfoItemLabel--Address\n",
    "driver.get(href_list_real[0])\n",
    "div = driver.find_element_by_css_selector('.Restaurant__InfoItemLabel--Address').text\n",
    "div"
   ]
  },
  {
   "cell_type": "code",
   "execution_count": 128,
   "metadata": {},
   "outputs": [
    {
     "output_type": "execute_result",
     "data": {
      "text/plain": [
       "'서울특별시 서대문구 충정로 20\\n지번 서울시 서대문구 충정로3가 268'"
      ]
     },
     "metadata": {},
     "execution_count": 128
    }
   ],
   "source": [
    "# 전화번호 Restaurant__InfoItem\n",
    "driver.get(href_list_real[0])\n",
    "div = driver.find_element_by_css_selector('.Restaurant__InfoItemLabel').text\n",
    "div"
   ]
  },
  {
   "cell_type": "code",
   "execution_count": 131,
   "metadata": {},
   "outputs": [
    {
     "output_type": "execute_result",
     "data": {
      "text/plain": [
       "[None, None]"
      ]
     },
     "metadata": {},
     "execution_count": 131
    }
   ],
   "source": [
    "## 인식을 못함\n",
    "elems = driver.find_elements_by_css_selector(\".Restaurant__InfoItemLabel\")\n",
    "href_list = []\n",
    "for elem in elems:\n",
    "    href_list.append(elem.get_attribute(\"href\"))\n",
    "href_list"
   ]
  },
  {
   "cell_type": "code",
   "execution_count": null,
   "metadata": {},
   "outputs": [],
   "source": [
    "# 테이블 가져오기로 하기\n",
    "depth_1_body = driver.find_element_by_xpath('//*[@id=]')"
   ]
  }
 ]
}