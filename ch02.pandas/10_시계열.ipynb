{
 "metadata": {
  "language_info": {
   "codemirror_mode": {
    "name": "ipython",
    "version": 3
   },
   "file_extension": ".py",
   "mimetype": "text/x-python",
   "name": "python",
   "nbconvert_exporter": "python",
   "pygments_lexer": "ipython3",
   "version": "3.8.5"
  },
  "orig_nbformat": 2,
  "kernelspec": {
   "name": "python385jvsc74a57bd08c1eae21719a0790335dcb83aad72b63b602cfe5cdb2bda0f60bc11d4f154e4b",
   "display_name": "Python 3.8.5 64-bit ('base': conda)"
  }
 },
 "nbformat": 4,
 "nbformat_minor": 2,
 "cells": [
  {
   "cell_type": "code",
   "execution_count": 1,
   "metadata": {},
   "outputs": [],
   "source": [
    "import pandas as pd\n",
    "import numpy as np"
   ]
  },
  {
   "source": [
    "# 시계열 자료 "
   ],
   "cell_type": "markdown",
   "metadata": {}
  },
  {
   "source": [
    "## DatetimeIndex"
   ],
   "cell_type": "markdown",
   "metadata": {}
  },
  {
   "cell_type": "code",
   "execution_count": 2,
   "metadata": {},
   "outputs": [
    {
     "output_type": "execute_result",
     "data": {
      "text/plain": [
       "DatetimeIndex(['2018-01-01', '2018-01-04', '2018-01-05', '2018-01-06'], dtype='datetime64[ns]', freq=None)"
      ]
     },
     "metadata": {},
     "execution_count": 2
    }
   ],
   "source": [
    "date_str = [\"2018, 1, 1\", \"2018, 1, 4\", \"2018, 1, 5\", \"2018, 1, 6\"]\n",
    "idx = pd.to_datetime(date_str)\n",
    "idx"
   ]
  },
  {
   "cell_type": "code",
   "execution_count": 6,
   "metadata": {},
   "outputs": [
    {
     "output_type": "execute_result",
     "data": {
      "text/plain": [
       "DatetimeIndex(['2018-01-01', '2018-01-04', '2018-01-05', '2018-01-06',\n",
       "               '1997-05-13'],\n",
       "              dtype='datetime64[ns]', freq=None)"
      ]
     },
     "metadata": {},
     "execution_count": 6
    }
   ],
   "source": [
    "# 모두 날짜 인덱스로 받음\n",
    "# 이때 6자리숫자로 입력시'일월년'순서로 기입하여야함\n",
    "# 단,  \"2018, 1, 1\"에서 띄어쓰기를 뺴면 오류발생 주의 모두 날짜 인덱스로 받음\n",
    "\n",
    "date_str = [\"2018, 1, 1\", \"2018-1-4\", \"20180105\", \"2018. 1. 6\", '130597']\n",
    "idx = pd.to_datetime(date_str)\n",
    "idx"
   ]
  },
  {
   "cell_type": "code",
   "execution_count": 10,
   "metadata": {},
   "outputs": [
    {
     "output_type": "execute_result",
     "data": {
      "text/plain": [
       "2018-01-01    1.488609\n",
       "2018-01-04    0.676011\n",
       "2018-01-05   -0.418451\n",
       "2018-01-06   -0.806521\n",
       "1997-05-13    0.555876\n",
       "dtype: float64"
      ]
     },
     "metadata": {},
     "execution_count": 10
    }
   ],
   "source": [
    "np.random.seed(2021)\n",
    "s = pd.Series(np.random.randn(5), index = idx)\n",
    "s"
   ]
  },
  {
   "cell_type": "code",
   "execution_count": 12,
   "metadata": {},
   "outputs": [
    {
     "output_type": "execute_result",
     "data": {
      "text/plain": [
       "DatetimeIndex(['2021-06-01', '2021-06-02', '2021-06-03', '2021-06-04',\n",
       "               '2021-06-05', '2021-06-06', '2021-06-07', '2021-06-08',\n",
       "               '2021-06-09', '2021-06-10', '2021-06-11', '2021-06-12',\n",
       "               '2021-06-13', '2021-06-14', '2021-06-15', '2021-06-16',\n",
       "               '2021-06-17', '2021-06-18', '2021-06-19', '2021-06-20',\n",
       "               '2021-06-21', '2021-06-22', '2021-06-23', '2021-06-24',\n",
       "               '2021-06-25', '2021-06-26', '2021-06-27', '2021-06-28',\n",
       "               '2021-06-29', '2021-06-30'],\n",
       "              dtype='datetime64[ns]', freq='D')"
      ]
     },
     "metadata": {},
     "execution_count": 12
    }
   ],
   "source": [
    "#2021-06-01 부터  2021-06-30 까지의 datetime데이터 불러옴 \n",
    "pd.date_range(\"20210601\", \"20210630\")"
   ]
  },
  {
   "cell_type": "code",
   "execution_count": 13,
   "metadata": {},
   "outputs": [
    {
     "output_type": "execute_result",
     "data": {
      "text/plain": [
       "DatetimeIndex(['2021-06-01', '2021-06-02', '2021-06-03', '2021-06-04',\n",
       "               '2021-06-05', '2021-06-06', '2021-06-07', '2021-06-08',\n",
       "               '2021-06-09', '2021-06-10', '2021-06-11', '2021-06-12',\n",
       "               '2021-06-13', '2021-06-14', '2021-06-15', '2021-06-16',\n",
       "               '2021-06-17', '2021-06-18', '2021-06-19', '2021-06-20',\n",
       "               '2021-06-21', '2021-06-22', '2021-06-23', '2021-06-24',\n",
       "               '2021-06-25', '2021-06-26', '2021-06-27', '2021-06-28',\n",
       "               '2021-06-29', '2021-06-30'],\n",
       "              dtype='datetime64[ns]', freq='D')"
      ]
     },
     "metadata": {},
     "execution_count": 13
    }
   ],
   "source": [
    "# 위와 같은 결과 출력\n",
    "pd.date_range(\"20210601\", periods = 30) # freq='D' ; day의미"
   ]
  },
  {
   "source": [
    "### * freq 인수\n",
    "freq 인수로 특정한 날짜만 생성되도록 할 수 있다\n",
    "\n",
    "- s: 초\n",
    "\n",
    "- T: 분\n",
    "\n",
    "- H: 시간\n",
    "\n",
    "- D: 일(day)\n",
    "\n",
    "- B: 주말이 아닌 평일\n",
    "\n",
    "- W: 주(일요일)\n",
    "\n",
    "- W-MON: 주(월요일)\n",
    "\n",
    "- M: 각 달(month)의 마지막 날\n",
    "\n",
    "- MS: 각 달의 첫날\n",
    "\n",
    "- BM: 주말이 아닌 평일 중에서 각 달의 마지막 날\n",
    "\n",
    "- BMS: 주말이 아닌 평일 중에서 각 달의 첫날\n",
    "\n",
    "- WOM-2THU: 각 달의 두번째 목요일\n",
    "\n",
    "- Q-JAN: 각 분기의 첫달의 마지막 날\n",
    "\n",
    "- Q-DEC: 각 분기의 마지막 달의 마지막 날"
   ],
   "cell_type": "markdown",
   "metadata": {}
  },
  {
   "cell_type": "code",
   "execution_count": 15,
   "metadata": {},
   "outputs": [
    {
     "output_type": "execute_result",
     "data": {
      "text/plain": [
       "DatetimeIndex(['2021-06-01', '2021-06-02', '2021-06-03', '2021-06-04',\n",
       "               '2021-06-07', '2021-06-08', '2021-06-09', '2021-06-10',\n",
       "               '2021-06-11', '2021-06-14', '2021-06-15', '2021-06-16',\n",
       "               '2021-06-17', '2021-06-18', '2021-06-21', '2021-06-22',\n",
       "               '2021-06-23', '2021-06-24', '2021-06-25', '2021-06-28',\n",
       "               '2021-06-29', '2021-06-30'],\n",
       "              dtype='datetime64[ns]', freq='B')"
      ]
     },
     "metadata": {},
     "execution_count": 15
    }
   ],
   "source": [
    "pd.date_range(\"20210601\", \"20210630\", freq=\"B\") #B: 주말이 아닌 평일"
   ]
  },
  {
   "cell_type": "code",
   "execution_count": 17,
   "metadata": {},
   "outputs": [
    {
     "output_type": "execute_result",
     "data": {
      "text/plain": [
       "DatetimeIndex(['2021-06-06', '2021-06-13', '2021-06-20', '2021-06-27'], dtype='datetime64[ns]', freq='W-SUN')"
      ]
     },
     "metadata": {},
     "execution_count": 17
    }
   ],
   "source": [
    "pd.date_range(\"20210601\", \"20210630\", freq=\"W\") # W: 주(일요일)"
   ]
  },
  {
   "cell_type": "code",
   "execution_count": 20,
   "metadata": {},
   "outputs": [
    {
     "output_type": "execute_result",
     "data": {
      "text/plain": [
       "DatetimeIndex(['2021-06-05', '2021-06-12', '2021-06-19', '2021-06-26'], dtype='datetime64[ns]', freq='W-SAT')"
      ]
     },
     "metadata": {},
     "execution_count": 20
    }
   ],
   "source": [
    "pd.date_range(\"20210601\", \"20210630\", freq=\"W-SAT\") # W: 주(토요일)"
   ]
  },
  {
   "cell_type": "code",
   "execution_count": 22,
   "metadata": {},
   "outputs": [
    {
     "output_type": "execute_result",
     "data": {
      "text/plain": [
       "DatetimeIndex(['2021-01-31', '2021-02-28', '2021-03-31', '2021-04-30',\n",
       "               '2021-05-31', '2021-06-30', '2021-07-31', '2021-08-31',\n",
       "               '2021-09-30', '2021-10-31', '2021-11-30', '2021-12-31'],\n",
       "              dtype='datetime64[ns]', freq='M')"
      ]
     },
     "metadata": {},
     "execution_count": 22
    }
   ],
   "source": [
    "pd.date_range(\"20210101\", \"20211231\", freq=\"M\") # M: 각 달(month)의 마지막 날"
   ]
  },
  {
   "source": [
    "## Resample"
   ],
   "cell_type": "markdown",
   "metadata": {}
  },
  {
   "cell_type": "code",
   "execution_count": 23,
   "metadata": {},
   "outputs": [
    {
     "output_type": "execute_result",
     "data": {
      "text/plain": [
       "2018-03-22    1.277788\n",
       "2018-03-23    0.629269\n",
       "2018-03-24    0.361891\n",
       "2018-03-25    3.638726\n",
       "2018-03-26   -1.201221\n",
       "2018-03-27   -1.330033\n",
       "2018-03-28    1.261033\n",
       "2018-03-29   -0.648126\n",
       "2018-03-30    2.245300\n",
       "2018-03-31   -1.012394\n",
       "2018-04-01   -0.125939\n",
       "2018-04-02   -0.432416\n",
       "2018-04-03    0.425937\n",
       "2018-04-04    0.756636\n",
       "2018-04-05   -0.994854\n",
       "2018-04-06   -0.740574\n",
       "2018-04-07    0.458233\n",
       "2018-04-08    1.257247\n",
       "2018-04-09   -0.441704\n",
       "2018-04-10    0.541335\n",
       "Freq: D, dtype: float64"
      ]
     },
     "metadata": {},
     "execution_count": 23
    }
   ],
   "source": [
    "ts = pd.Series(np.random.randn(100), \n",
    "                index=pd.date_range( \"2018-1-1\", periods=100, freq=\"D\"))  #, freq=\"D\" 안써도 됨\n",
    "ts.tail(20)"
   ]
  },
  {
   "cell_type": "code",
   "execution_count": 24,
   "metadata": {},
   "outputs": [
    {
     "output_type": "execute_result",
     "data": {
      "text/plain": [
       "2018-01-07    0.126454\n",
       "2018-01-14   -0.465620\n",
       "2018-01-21    0.485757\n",
       "2018-01-28    0.895867\n",
       "2018-02-04   -0.528141\n",
       "2018-02-11    0.158783\n",
       "2018-02-18   -0.370440\n",
       "2018-02-25    0.328590\n",
       "2018-03-04    0.140790\n",
       "2018-03-11   -0.202126\n",
       "2018-03-18    0.313662\n",
       "2018-03-25    0.927967\n",
       "2018-04-01   -0.115911\n",
       "2018-04-08    0.104316\n",
       "2018-04-15    0.049816\n",
       "Freq: W-SUN, dtype: float64"
      ]
     },
     "metadata": {},
     "execution_count": 24
    }
   ],
   "source": [
    "ts.resample('W').mean()"
   ]
  },
  {
   "cell_type": "code",
   "execution_count": 26,
   "metadata": {},
   "outputs": [
    {
     "output_type": "execute_result",
     "data": {
      "text/plain": [
       "2018-01-31   -0.705504\n",
       "2018-02-28   -1.044744\n",
       "2018-03-31    0.141464\n",
       "2018-04-30   -0.125939\n",
       "Freq: M, dtype: float64"
      ]
     },
     "metadata": {},
     "execution_count": 26
    }
   ],
   "source": [
    "ts.resample('M').first()\n"
   ]
  }
 ]
}