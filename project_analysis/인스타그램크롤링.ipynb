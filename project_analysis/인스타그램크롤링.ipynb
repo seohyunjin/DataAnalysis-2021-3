{
 "metadata": {
  "language_info": {
   "codemirror_mode": {
    "name": "ipython",
    "version": 3
   },
   "file_extension": ".py",
   "mimetype": "text/x-python",
   "name": "python",
   "nbconvert_exporter": "python",
   "pygments_lexer": "ipython3",
   "version": "3.8.5"
  },
  "orig_nbformat": 2,
  "kernelspec": {
   "name": "python3",
   "display_name": "Python 3.8.5 64-bit ('base': conda)"
  },
  "interpreter": {
   "hash": "8c1eae21719a0790335dcb83aad72b63b602cfe5cdb2bda0f60bc11d4f154e4b"
  }
 },
 "nbformat": 4,
 "nbformat_minor": 2,
 "cells": [
  {
   "cell_type": "code",
   "execution_count": 33,
   "metadata": {},
   "outputs": [
    {
     "output_type": "execute_result",
     "data": {
      "text/plain": [
       "<bound method WebDriver.close of <selenium.webdriver.chrome.webdriver.WebDriver (session=\"adc1f22de85f2508f1e2d7437454c441\")>>"
      ]
     },
     "metadata": {},
     "execution_count": 33
    }
   ],
   "source": [
    "driver.close"
   ]
  },
  {
   "source": [
    "# 인스타 해시태그(#따릉이) 크롤링"
   ],
   "cell_type": "markdown",
   "metadata": {}
  },
  {
   "cell_type": "code",
   "execution_count": 34,
   "metadata": {},
   "outputs": [],
   "source": [
    "from selenium import webdriver\n",
    "from selenium.webdriver.common.action_chains import ActionChains\n",
    "from selenium.webdriver.common.keys import Keys\n",
    "import time\n",
    "import os"
   ]
  },
  {
   "cell_type": "code",
   "execution_count": null,
   "metadata": {},
   "outputs": [],
   "source": [
    "driver = webdriver.Chrome('./chromedriver')\n",
    "# time.sleep(0.5) # 0.5 초 기다림"
   ]
  },
  {
   "cell_type": "code",
   "execution_count": 47,
   "metadata": {},
   "outputs": [],
   "source": [
    "serch_word = \"따릉이\" #input('검색단어 입력')\n",
    "search_n = 50 #input('가져올 해시테그 수')"
   ]
  },
  {
   "cell_type": "code",
   "execution_count": 48,
   "metadata": {},
   "outputs": [],
   "source": [
    "action = ActionChains(driver)\n",
    "url = 'https://www.instagram.com/explore/tags/'+serch_word+\"/\""
   ]
  },
  {
   "cell_type": "code",
   "execution_count": 49,
   "metadata": {},
   "outputs": [],
   "source": [
    "driver.get(url)\n",
    "driver.maximize_window()"
   ]
  },
  {
   "cell_type": "code",
   "execution_count": null,
   "metadata": {},
   "outputs": [],
   "source": [
    "# 따릉이 입력후 해시태그 페이지까지 완."
   ]
  },
  {
   "source": [
    "###  아이디 비밀번호 입력"
   ],
   "cell_type": "markdown",
   "metadata": {}
  },
  {
   "cell_type": "code",
   "execution_count": null,
   "metadata": {},
   "outputs": [],
   "source": [
    "with open('instagramloginkey1.txt', mode='r') as key_file1:\n",
    "    id_name = key_file1.read()"
   ]
  },
  {
   "cell_type": "code",
   "execution_count": 39,
   "metadata": {},
   "outputs": [],
   "source": [
    "with open('instagramloginkey2.txt', mode='r') as key_file2:\n",
    "    pwd = key_file2.read()"
   ]
  },
  {
   "cell_type": "code",
   "execution_count": 50,
   "metadata": {},
   "outputs": [],
   "source": [
    "driver.find_element_by_link_text('로그인').click()"
   ]
  },
  {
   "source": [
    "# 아이디 비밀번호 입력\n",
    "driver.find_element_by_link_text('로그인').click()\n",
    "driver.find_elements_by_css_selector('._2hvTZ.pexuQ.zyHYP')[0].send_keys(id_name)\n",
    "driver.find_elements_by_css_selector('._2hvTZ.pexuQ.zyHYP')[1].send_keys(pwd)\n",
    "action.key_down(Keys.ENTER).perform()"
   ],
   "cell_type": "code",
   "metadata": {},
   "execution_count": 41,
   "outputs": []
  },
  {
   "cell_type": "code",
   "execution_count": 55,
   "metadata": {},
   "outputs": [],
   "source": [
    "action.key_down(Keys.ENTER).perform()"
   ]
  },
  {
   "cell_type": "code",
   "execution_count": 56,
   "metadata": {},
   "outputs": [],
   "source": [
    "# 따릉이 해시태그 페이지 열기 \n",
    "driver.get(url)\n",
    "driver.maximize_window()"
   ]
  },
  {
   "source": [
    "### 로그인 완료 & 해시태그(#따릉이) 크롤링 페이지 준비 완료"
   ],
   "cell_type": "markdown",
   "metadata": {}
  },
  {
   "cell_type": "code",
   "execution_count": 90,
   "metadata": {},
   "outputs": [
    {
     "output_type": "stream",
     "name": "stdout",
     "text": [
      "#팀야유회\n#한강라이딩\n#따릉이\n#다들고생했어요😂\n"
     ]
    }
   ],
   "source": [
    "# 1장 긁어오기 연습\n",
    "time.sleep(5)\n",
    "\n",
    "driver.find_elements_by_css_selector('._9AhH0')[0].click()\n",
    "\n",
    "tags = driver.find_elements_by_css_selector('.xil3i')\n",
    "time.sleep(4)\n",
    "\n",
    "for i in tags:\n",
    "    print(i.text)"
   ]
  },
  {
   "cell_type": "code",
   "execution_count": 85,
   "metadata": {},
   "outputs": [],
   "source": [
    "# 300장 긁어오기\n",
    "n=1\n",
    "tag_list=[]\n",
    "driver.find_elements_by_css_selector('._9AhH0')[i].click()\n",
    "time.sleep(4)\n",
    "for i in range(300):\n",
    "    tags = driver.find_elements_by_css_selector('.xil3i')\n",
    "    time.sleep(5)\n",
    "    for k in tags:\n",
    "        tag_list.append(k.text)\n",
    "    driver.find_element_by_link_text('다음').click()\n",
    "    #driver.find_elements_by_css_selector('.wpO6b').click()\n",
    "    time.sleep(2)"
   ]
  },
  {
   "cell_type": "code",
   "execution_count": 86,
   "metadata": {},
   "outputs": [
    {
     "output_type": "execute_result",
     "data": {
      "text/plain": [
       "3115"
      ]
     },
     "metadata": {},
     "execution_count": 86
    }
   ],
   "source": [
    "len(tag_list)"
   ]
  },
  {
   "cell_type": "code",
   "execution_count": 87,
   "metadata": {},
   "outputs": [],
   "source": [
    "import re\n",
    "\n",
    "new_tag_list=[]\n",
    "for tag in tag_list:\n",
    "    text = re.sub('[A-Za-z0-9#]','',tag)# 영어,숫자는 제외하려고 1차 조작 \n",
    "    #text = re.sub('#','',tag)\n",
    "    if text:\n",
    "        new_tag_list.append(text)"
   ]
  },
  {
   "cell_type": "code",
   "execution_count": 1,
   "metadata": {},
   "outputs": [],
   "source": [
    "# new_tag_list"
   ]
  },
  {
   "cell_type": "code",
   "execution_count": 97,
   "metadata": {},
   "outputs": [
    {
     "output_type": "execute_result",
     "data": {
      "text/plain": [
       "2626"
      ]
     },
     "metadata": {},
     "execution_count": 97
    }
   ],
   "source": [
    "len(new_tag_list)"
   ]
  },
  {
   "cell_type": "code",
   "execution_count": 98,
   "metadata": {},
   "outputs": [],
   "source": [
    "f=open('crawling_instar.txt','w',encoding='utf-8')\n",
    "for i in range(len(new_tag_list)):\n",
    "    f.write(f'{new_tag_list}')"
   ]
  }
 ]
}