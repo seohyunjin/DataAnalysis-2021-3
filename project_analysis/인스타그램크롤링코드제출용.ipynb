{
 "cells": [
  {
   "cell_type": "markdown",
   "metadata": {},
   "source": [
    "# 인스타그램 크롤링 # 따릉이 해시태그"
   ]
  },
  {
   "cell_type": "code",
   "execution_count": null,
   "metadata": {},
   "outputs": [],
   "source": [
    "from selenium import webdriver\r\n",
    "from selenium.webdriver.common.action_chains import ActionChains\r\n",
    "from selenium.webdriver.common.keys import Keys\r\n",
    "import time\r\n",
    "import os"
   ]
  },
  {
   "cell_type": "code",
   "execution_count": null,
   "metadata": {},
   "outputs": [],
   "source": [
    "driver = webdriver.Chrome('./chromedriver')\r\n",
    "# time.sleep(0.5) # 0.5 초 기다림"
   ]
  },
  {
   "cell_type": "code",
   "execution_count": null,
   "metadata": {},
   "outputs": [],
   "source": [
    "serch_word = \"따릉이\" #input('검색단어 입력')\r\n",
    "search_n = 50 #input('가져올 해시테그 수')"
   ]
  },
  {
   "cell_type": "code",
   "execution_count": null,
   "metadata": {},
   "outputs": [],
   "source": [
    "action = ActionChains(driver)\r\n",
    "url = 'https://www.instagram.com/explore/tags/'+serch_word+\"/\""
   ]
  },
  {
   "cell_type": "code",
   "execution_count": null,
   "metadata": {},
   "outputs": [],
   "source": [
    "driver.get(url)\r\n",
    "driver.maximize_window()"
   ]
  },
  {
   "cell_type": "code",
   "execution_count": null,
   "metadata": {},
   "outputs": [],
   "source": [
    "# 따릉이 입력후 해시태그 페이지까지 완."
   ]
  },
  {
   "cell_type": "code",
   "execution_count": null,
   "metadata": {},
   "outputs": [],
   "source": [
    "with open('instagramloginkey1.txt', mode='r') as key_file1:\r\n",
    "    id_name = key_file1.read()"
   ]
  },
  {
   "cell_type": "code",
   "execution_count": null,
   "metadata": {},
   "outputs": [],
   "source": [
    "with open('instagramloginkey2.txt', mode='r') as key_file2:\r\n",
    "    pwd = key_file2.read()"
   ]
  },
  {
   "cell_type": "code",
   "execution_count": null,
   "metadata": {},
   "outputs": [],
   "source": [
    "# 아이디 비밀번호 입력\r\n",
    "driver.find_element_by_link_text('로그인').click()\r\n",
    "driver.find_elements_by_css_selector('._2hvTZ.pexuQ.zyHYP')[0].send_keys(id_name)\r\n",
    "driver.find_elements_by_css_selector('._2hvTZ.pexuQ.zyHYP')[1].send_keys(pwd)\r\n",
    "action.key_down(Keys.ENTER).perform()"
   ]
  },
  {
   "cell_type": "code",
   "execution_count": null,
   "metadata": {},
   "outputs": [],
   "source": [
    "action.key_down(Keys.ENTER).perform()"
   ]
  },
  {
   "cell_type": "code",
   "execution_count": null,
   "metadata": {},
   "outputs": [],
   "source": [
    "# 따릉이 해시태그 페이지 열기 \r\n",
    "driver.get(url)\r\n",
    "driver.maximize_window()"
   ]
  },
  {
   "cell_type": "markdown",
   "metadata": {},
   "source": [
    "### 로그인 완료 & 해시태그(#따릉이) 크롤링 페이지 준비 완료"
   ]
  },
  {
   "cell_type": "code",
   "execution_count": null,
   "metadata": {},
   "outputs": [],
   "source": [
    "# 300장 긁어오기\r\n",
    "n=1\r\n",
    "tag_list=[]\r\n",
    "driver.find_elements_by_css_selector('._9AhH0')[0].click()\r\n",
    "time.sleep(4)\r\n",
    "for i in range(300):\r\n",
    "    tags = driver.find_elements_by_css_selector('.xil3i')\r\n",
    "    time.sleep(5)\r\n",
    "    for k in tags:\r\n",
    "        tag_list.append(k.text)\r\n",
    "    driver.find_element_by_link_text('다음').click()\r\n",
    "    #driver.find_elements_by_css_selector('.wpO6b').click()\r\n",
    "    time.sleep(2)"
   ]
  },
  {
   "cell_type": "code",
   "execution_count": null,
   "metadata": {},
   "outputs": [],
   "source": [
    "import re\r\n",
    "\r\n",
    "new_tag_list=[]\r\n",
    "for tag in tag_list:\r\n",
    "    text = re.sub('[A-Za-z0-9#]','',tag)# 영어,숫자는 제외하려고 1차 조작 \r\n",
    "    #text = re.sub('#','',tag)\r\n",
    "    if text:\r\n",
    "        new_tag_list.append(text)"
   ]
  },
  {
   "cell_type": "code",
   "execution_count": null,
   "metadata": {},
   "outputs": [],
   "source": [
    "f=open('crawling_instar2.txt','w',encoding='utf-8')\r\n",
    "for i in range(len(new_tag_list)):\r\n",
    "    f.write(f'{new_tag_list}')"
   ]
  }
 ],
 "metadata": {
  "interpreter": {
   "hash": "8c1eae21719a0790335dcb83aad72b63b602cfe5cdb2bda0f60bc11d4f154e4b"
  },
  "kernelspec": {
   "display_name": "Python 3.8.5 64-bit ('base': conda)",
   "name": "python3"
  },
  "language_info": {
   "name": "python",
   "version": ""
  },
  "orig_nbformat": 4
 },
 "nbformat": 4,
 "nbformat_minor": 2
}