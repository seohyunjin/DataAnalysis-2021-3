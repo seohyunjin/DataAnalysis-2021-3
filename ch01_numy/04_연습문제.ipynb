{
 "metadata": {
  "language_info": {
   "codemirror_mode": {
    "name": "ipython",
    "version": 3
   },
   "file_extension": ".py",
   "mimetype": "text/x-python",
   "name": "python",
   "nbconvert_exporter": "python",
   "pygments_lexer": "ipython3",
   "version": "3.8.5"
  },
  "orig_nbformat": 2,
  "kernelspec": {
   "name": "python385jvsc74a57bd08c1eae21719a0790335dcb83aad72b63b602cfe5cdb2bda0f60bc11d4f154e4b",
   "display_name": "Python 3.8.5 64-bit ('base': conda)"
  }
 },
 "nbformat": 4,
 "nbformat_minor": 2,
 "cells": [
  {
   "source": [
    "### 21.05.31 서현진 한경아카데미"
   ],
   "cell_type": "markdown",
   "metadata": {}
  },
  {
   "source": [
    "### 1. 넘파이를 사용하여 다음과 같은 행렬을 만드시오."
   ],
   "cell_type": "markdown",
   "metadata": {}
  },
  {
   "cell_type": "code",
   "execution_count": 2,
   "metadata": {},
   "outputs": [],
   "source": [
    "import numpy as np"
   ]
  },
  {
   "cell_type": "code",
   "execution_count": 6,
   "metadata": {},
   "outputs": [
    {
     "output_type": "execute_result",
     "data": {
      "text/plain": [
       "array([[10, 20, 30, 40],\n",
       "       [50, 60, 70, 80]])"
      ]
     },
     "metadata": {},
     "execution_count": 6
    }
   ],
   "source": [
    "a = (np.arange(1, 9).reshape(2,4) ) * 10 ; a"
   ]
  },
  {
   "source": [
    "### 2. 다음 행렬과 같은 행렬이 있다.\n",
    "m = np.array([[ 0, 1, 2, 3, 4],\n",
    " [ 5, 6, 7, 8, 9],\n",
    " [10, 11, 12, 13, 14]])\n",
    " \n",
    "#### 1) 이 행렬에서 값 7을 인덱싱한다.\n",
    "\n",
    "#### 2) 이 행렬에서 값 14을 인덱싱한다.\n",
    "\n",
    "#### 3) 이 행렬에서 배열 [ 6,7]을 슬라이싱한다.\n",
    "\n",
    "#### 4) 이 행렬에서 배열 [7,12]을 슬라이싱한다.\n",
    "\n",
    "#### 5) 이 행렬에서 배열 [[3,4], [8,9]]을 슬라이싱한다.\n"
   ],
   "cell_type": "markdown",
   "metadata": {}
  },
  {
   "cell_type": "code",
   "execution_count": 8,
   "metadata": {},
   "outputs": [
    {
     "output_type": "execute_result",
     "data": {
      "text/plain": [
       "array([[ 0,  1,  2,  3,  4],\n",
       "       [ 5,  6,  7,  8,  9],\n",
       "       [10, 11, 12, 13, 14]])"
      ]
     },
     "metadata": {},
     "execution_count": 8
    }
   ],
   "source": [
    "m = np.array([[ 0, 1, 2, 3, 4], [ 5, 6, 7, 8, 9], [10, 11, 12, 13, 14]])\n",
    "m"
   ]
  },
  {
   "cell_type": "code",
   "execution_count": 10,
   "metadata": {},
   "outputs": [
    {
     "output_type": "execute_result",
     "data": {
      "text/plain": [
       "7"
      ]
     },
     "metadata": {},
     "execution_count": 10
    }
   ],
   "source": [
    "# 1 )\n",
    "m[1,2]  # m[1][2]"
   ]
  },
  {
   "cell_type": "code",
   "execution_count": 11,
   "metadata": {},
   "outputs": [
    {
     "output_type": "execute_result",
     "data": {
      "text/plain": [
       "14"
      ]
     },
     "metadata": {},
     "execution_count": 11
    }
   ],
   "source": [
    "# 2 )\n",
    "m[2,4] # m[-1,-1] "
   ]
  },
  {
   "cell_type": "code",
   "execution_count": 13,
   "metadata": {},
   "outputs": [
    {
     "output_type": "execute_result",
     "data": {
      "text/plain": [
       "array([6, 7])"
      ]
     },
     "metadata": {},
     "execution_count": 13
    }
   ],
   "source": [
    "# 3 )\n",
    "m[1, 1:3]"
   ]
  },
  {
   "cell_type": "code",
   "execution_count": 15,
   "metadata": {},
   "outputs": [
    {
     "output_type": "execute_result",
     "data": {
      "text/plain": [
       "array([ 7, 12])"
      ]
     },
     "metadata": {},
     "execution_count": 15
    }
   ],
   "source": [
    "# 4 )\n",
    "m[1:3, 2] # m[1:, 2]"
   ]
  },
  {
   "cell_type": "code",
   "execution_count": 19,
   "metadata": {},
   "outputs": [
    {
     "output_type": "execute_result",
     "data": {
      "text/plain": [
       "array([[3, 4],\n",
       "       [8, 9]])"
      ]
     },
     "metadata": {},
     "execution_count": 19
    }
   ],
   "source": [
    "# 5 )\n",
    "m[:2, 3:5]  # m[:2, 3:]"
   ]
  },
  {
   "source": [
    "### 3. 2번의 행렬 m을 1차원 벡터 f 로 변환한 후 다음의 문제를 푸시오.\n",
    "1) 이 배열에서 3의 배수를 찾아라.\n",
    "\n",
    "2) 이 배열에서 4로 나누면 1이 남는 수를 찾아라.\n",
    "\n",
    "3) 이 배열에서 3으로 나누면 나누어지고 4로 나누면 1이 남는 수를 찾아라."
   ],
   "cell_type": "markdown",
   "metadata": {}
  },
  {
   "cell_type": "code",
   "execution_count": 21,
   "metadata": {},
   "outputs": [
    {
     "output_type": "execute_result",
     "data": {
      "text/plain": [
       "array([ 0,  1,  2,  3,  4,  5,  6,  7,  8,  9, 10, 11, 12, 13, 14])"
      ]
     },
     "metadata": {},
     "execution_count": 21
    }
   ],
   "source": [
    "f = m.flatten(); f"
   ]
  },
  {
   "cell_type": "code",
   "execution_count": 39,
   "metadata": {},
   "outputs": [
    {
     "output_type": "execute_result",
     "data": {
      "text/plain": [
       "array([ 3,  6,  9, 12])"
      ]
     },
     "metadata": {},
     "execution_count": 39
    }
   ],
   "source": [
    "# 1)\n",
    "ex1 = f[ np.logical_and(f%3 == 0, f !=0 ) ] ; ex1"
   ]
  },
  {
   "cell_type": "code",
   "execution_count": 41,
   "metadata": {},
   "outputs": [
    {
     "output_type": "execute_result",
     "data": {
      "text/plain": [
       "array([ 1,  5,  9, 13])"
      ]
     },
     "metadata": {},
     "execution_count": 41
    }
   ],
   "source": [
    "# 2)\n",
    "ex2 = f[ f%4 == 1 ]; ex2"
   ]
  },
  {
   "cell_type": "code",
   "execution_count": 42,
   "metadata": {},
   "outputs": [
    {
     "output_type": "execute_result",
     "data": {
      "text/plain": [
       "array([9])"
      ]
     },
     "metadata": {},
     "execution_count": 42
    }
   ],
   "source": [
    "# 3)\n",
    "ex3 = ex1[ ex1%4 ==1 ] ; ex3"
   ]
  },
  {
   "source": [
    "### 4. 값을 직접 입력하지 말고 아래의 행렬을 만드시오\n",
    "\n",
    "2, 1, 0, 0, 0\n",
    "\n",
    "3, 2, 1, 0, 0\n",
    "\n",
    "0, 3, 2, 1, 0\n",
    "\n",
    "0, 0, 3, 2, 1\n",
    "\n",
    "0, 0, 0, 3, 2"
   ],
   "cell_type": "markdown",
   "metadata": {}
  },
  {
   "cell_type": "code",
   "execution_count": 48,
   "metadata": {},
   "outputs": [
    {
     "output_type": "execute_result",
     "data": {
      "text/plain": [
       "array([[2., 1., 0., 0., 0.],\n",
       "       [3., 2., 1., 0., 0.],\n",
       "       [0., 3., 2., 1., 0.],\n",
       "       [0., 0., 3., 2., 1.],\n",
       "       [0., 0., 0., 3., 2.]])"
      ]
     },
     "metadata": {},
     "execution_count": 48
    }
   ],
   "source": [
    "np.eye( 5, 5, 1) + np.eye( 5, 5, 0) * 2 + np.eye( 5, 5, -1) *3"
   ]
  },
  {
   "source": [
    "### 5. 0에서 10까지 랜덤 실수값으로 이루어진 5 x 6 형태의 데이터 행렬을 만들고 이 데이터에 대해 다음과 같은 값을 구하시오.\n",
    "\n",
    "1) 전체의 최댓값\n",
    "\n",
    "2) 각 행의 합\n",
    "\n",
    "3) 각 행의 최댓값\n",
    "\n",
    "4) 각 열의 평균\n",
    "\n",
    "5) 각 열의 최솟값"
   ],
   "cell_type": "markdown",
   "metadata": {}
  },
  {
   "cell_type": "code",
   "execution_count": 4,
   "metadata": {},
   "outputs": [
    {
     "output_type": "execute_result",
     "data": {
      "text/plain": [
       "array([[6.05978279, 7.33369361, 1.38947157, 3.12673084, 9.97243281,\n",
       "        1.28162375],\n",
       "       [1.78993106, 7.52925429, 6.62160514, 7.84310132, 0.96894396,\n",
       "        0.58571285],\n",
       "       [9.6239599 , 6.16557444, 0.86629961, 5.61272363, 6.16524709,\n",
       "        9.63843023],\n",
       "       [5.74304294, 3.71160848, 4.52145244, 2.01850248, 5.69305118,\n",
       "        1.95095974],\n",
       "       [5.83704016, 4.76313474, 5.178144  , 8.23098634, 7.32225027,\n",
       "        0.69056275]])"
      ]
     },
     "metadata": {},
     "execution_count": 4
    }
   ],
   "source": [
    "np.random.seed(2021)\n",
    "mtx5= np.random.uniform(0,10,30).reshape(5, 6) ; mtx5"
   ]
  },
  {
   "cell_type": "code",
   "execution_count": 5,
   "metadata": {},
   "outputs": [
    {
     "output_type": "execute_result",
     "data": {
      "text/plain": [
       "9.972432813403188"
      ]
     },
     "metadata": {},
     "execution_count": 5
    }
   ],
   "source": [
    "# 1) 전체의 최댓값\n",
    "mtx5.max()   # np.max(mtx5)"
   ]
  },
  {
   "cell_type": "code",
   "execution_count": 58,
   "metadata": {},
   "outputs": [
    {
     "output_type": "execute_result",
     "data": {
      "text/plain": [
       "array([29.16373537, 25.33854862, 38.07223489, 23.63861727, 32.02211826])"
      ]
     },
     "metadata": {},
     "execution_count": 58
    }
   ],
   "source": [
    "#2)각 행의 합\n",
    "mtx5.sum(axis = 1)"
   ]
  },
  {
   "cell_type": "code",
   "execution_count": 60,
   "metadata": {},
   "outputs": [
    {
     "output_type": "execute_result",
     "data": {
      "text/plain": [
       "array([9.97243281, 7.84310132, 9.63843023, 5.74304294, 8.23098634])"
      ]
     },
     "metadata": {},
     "execution_count": 60
    }
   ],
   "source": [
    "#3)각 행의 최댓값\n",
    "mtx5.max(axis =1)"
   ]
  },
  {
   "cell_type": "code",
   "execution_count": 61,
   "metadata": {},
   "outputs": [
    {
     "output_type": "execute_result",
     "data": {
      "text/plain": [
       "array([5.81075137, 5.90065311, 3.71539455, 5.36640892, 6.02438506,\n",
       "       2.82945787])"
      ]
     },
     "metadata": {},
     "execution_count": 61
    }
   ],
   "source": [
    "#4)각 열의 평균\n",
    "mtx5.mean(axis = 0)"
   ]
  },
  {
   "cell_type": "code",
   "execution_count": 62,
   "metadata": {},
   "outputs": [
    {
     "output_type": "execute_result",
     "data": {
      "text/plain": [
       "array([1.78993106, 3.71160848, 0.86629961, 2.01850248, 0.96894396,\n",
       "       0.58571285])"
      ]
     },
     "metadata": {},
     "execution_count": 62
    }
   ],
   "source": [
    "#5)각 열의 최솟값\n",
    "mtx5.min(axis =0)  # np.min(mtx5, axis =0)"
   ]
  },
  {
   "source": [
    "### 6. 다음 배열은 첫번째 행(row)에 학번, 두번째 행에 영어 성적, 세번째 행에 수학 성적을 적은 배열이다. 영어 성적을 기준으로 각 열(column)을 재정렬하시오."
   ],
   "cell_type": "markdown",
   "metadata": {}
  },
  {
   "source": [
    "# array([[ 1, 2, 3, 4], [ 46, 99, 100, 71], [ 81, 59, 90, 100]])"
   ],
   "cell_type": "code",
   "metadata": {},
   "execution_count": 63,
   "outputs": []
  },
  {
   "cell_type": "code",
   "execution_count": 137,
   "metadata": {},
   "outputs": [
    {
     "output_type": "execute_result",
     "data": {
      "text/plain": [
       "array([[  1,   2,   3,   4],\n",
       "       [ 46,  99, 100,  71],\n",
       "       [ 81,  59,  90, 100]])"
      ]
     },
     "metadata": {},
     "execution_count": 137
    }
   ],
   "source": [
    "mtx6 = np.array([[ 1, 2, 3, 4], [ 46, 99, 100, 71], [ 81, 59, 90, 100]]) ; mtx6"
   ]
  },
  {
   "cell_type": "code",
   "execution_count": 143,
   "metadata": {},
   "outputs": [
    {
     "output_type": "execute_result",
     "data": {
      "text/plain": [
       "array([[  1,   4,   2,   3],\n",
       "       [ 46,  71,  99, 100],\n",
       "       [ 81, 100,  59,  90]])"
      ]
     },
     "metadata": {},
     "execution_count": 143
    }
   ],
   "source": [
    "mtx6[:, mtx6[1].argsort()]"
   ]
  },
  {
   "source": [
    "### - Sorting"
   ],
   "cell_type": "markdown",
   "metadata": {}
  },
  {
   "cell_type": "code",
   "execution_count": 10,
   "metadata": {},
   "outputs": [
    {
     "output_type": "execute_result",
     "data": {
      "text/plain": [
       "array([[  1,   2,   3,   4],\n",
       "       [ 46,  71,  99, 100],\n",
       "       [ 59,  81,  90, 100]])"
      ]
     },
     "metadata": {},
     "execution_count": 10
    }
   ],
   "source": [
    "# 그냥 sort 하면 각 원소들이 각각 sorting됨\n",
    "score = np.array([[1,2,3,4],[46,99,100,71],[81,59,90,100]])\n",
    "np.sort(score, axis=1)"
   ]
  },
  {
   "cell_type": "code",
   "execution_count": 13,
   "metadata": {},
   "outputs": [
    {
     "output_type": "execute_result",
     "data": {
      "text/plain": [
       "array([0, 3, 1, 2], dtype=int64)"
      ]
     },
     "metadata": {},
     "execution_count": 13
    }
   ],
   "source": [
    "np.argsort(score[1])  # 오름차순"
   ]
  },
  {
   "cell_type": "code",
   "execution_count": 15,
   "metadata": {},
   "outputs": [
    {
     "output_type": "execute_result",
     "data": {
      "text/plain": [
       "array([2, 1, 3, 0], dtype=int64)"
      ]
     },
     "metadata": {},
     "execution_count": 15
    }
   ],
   "source": [
    "np.argsort(score[1])[::-1]  # 내림차순"
   ]
  },
  {
   "cell_type": "code",
   "execution_count": 16,
   "metadata": {},
   "outputs": [
    {
     "output_type": "execute_result",
     "data": {
      "text/plain": [
       "array([[  1,   4,   2,   3],\n",
       "       [ 46,  71,  99, 100],\n",
       "       [ 81, 100,  59,  90]])"
      ]
     },
     "metadata": {},
     "execution_count": 16
    }
   ],
   "source": [
    "score[:, np.argsort(score[1]) ] # argsort(기준) 오름차순"
   ]
  },
  {
   "cell_type": "code",
   "execution_count": 18,
   "metadata": {},
   "outputs": [
    {
     "output_type": "execute_result",
     "data": {
      "text/plain": [
       "array([[  3,   2,   4,   1],\n",
       "       [100,  99,  71,  46],\n",
       "       [ 90,  59, 100,  81]])"
      ]
     },
     "metadata": {},
     "execution_count": 18
    }
   ],
   "source": [
    "score[:, np.argsort(score[1]) [::-1]]  # argsort(기준) 내림차순"
   ]
  },
  {
   "source": [
    "### 7. 주사위를 100번 던지는 가상 실험을 파이썬으로 작성하고, 던져서 나오는 숫자의 평균을 구하시오."
   ],
   "cell_type": "markdown",
   "metadata": {}
  },
  {
   "cell_type": "code",
   "execution_count": 100,
   "metadata": {},
   "outputs": [
    {
     "output_type": "execute_result",
     "data": {
      "text/plain": [
       "array([5, 6, 2, 1, 6, 5, 4, 6, 6, 6, 1, 5, 2, 6, 2, 2, 5, 6, 3, 3, 1, 4,\n",
       "       2, 1, 3, 4, 5, 6, 1, 6, 2, 3, 6, 2, 6, 2, 3, 3, 5, 6, 3, 4, 2, 3,\n",
       "       3, 1, 3, 5, 6, 4, 4, 2, 2, 2, 3, 6, 4, 4, 5, 4, 2, 5, 2, 2, 5, 4,\n",
       "       6, 4, 4, 4, 3, 2, 4, 3, 6, 3, 3, 1, 5, 4, 2, 4, 2, 5, 3, 4, 2, 3,\n",
       "       6, 3, 6, 3, 4, 5, 6, 2, 2, 6, 1, 6])"
      ]
     },
     "metadata": {},
     "execution_count": 100
    }
   ],
   "source": [
    "np.random.seed(2021)\n",
    "mtx7= np.random.randint(1,7,100); mtx7"
   ]
  },
  {
   "cell_type": "code",
   "execution_count": 101,
   "metadata": {},
   "outputs": [
    {
     "output_type": "execute_result",
     "data": {
      "text/plain": [
       "3.7"
      ]
     },
     "metadata": {},
     "execution_count": 101
    }
   ],
   "source": [
    "mtx7.mean()  #np.mean(mtx7)"
   ]
  },
  {
   "source": [
    "### 8. 가격이 10,000원인 주식이 있다. 이 주식의 일간 수익률(%)은 기댓값이 0%이고 표준편차가 1%인 표준 정규 분포를 따른다고 하자. 250일 동안의 주가를 무작위로 생성하시오."
   ],
   "cell_type": "markdown",
   "metadata": {}
  },
  {
   "cell_type": "code",
   "execution_count": 163,
   "metadata": {
    "tags": []
   },
   "outputs": [
    {
     "output_type": "stream",
     "name": "stdout",
     "text": [
      "1번째 날의 주가는 10020원 입니다.\n2번째 날의 주가는 9856원 입니다.\n3번째 날의 주가는 9913원 입니다.\n4번째 날의 주가는 9904원 입니다.\n5번째 날의 주가는 9990원 입니다.\n6번째 날의 주가는 10139원 입니다.\n7번째 날의 주가는 10250원 입니다.\n8번째 날의 주가는 10142원 입니다.\n9번째 날의 주가는 10148원 입니다.\n10번째 날의 주가는 10082원 입니다.\n11번째 날의 주가는 10182원 입니다.\n12번째 날의 주가는 10103원 입니다.\n13번째 날의 주가는 10043원 입니다.\n14번째 날의 주가는 10177원 입니다.\n15번째 날의 주가는 10289원 입니다.\n16번째 날의 주가는 10225원 입니다.\n17번째 날의 주가는 10304원 입니다.\n18번째 날의 주가는 10415원 입니다.\n19번째 날의 주가는 10473원 입니다.\n20번째 날의 주가는 10405원 입니다.\n21번째 날의 주가는 10291원 입니다.\n22번째 날의 주가는 10242원 입니다.\n23번째 날의 주가는 10372원 입니다.\n24번째 날의 주가는 10297원 입니다.\n25번째 날의 주가는 10238원 입니다.\n26번째 날의 주가는 10175원 입니다.\n27번째 날의 주가는 9902원 입니다.\n28번째 날의 주가는 10151원 입니다.\n29번째 날의 주가는 10194원 입니다.\n30번째 날의 주가는 10255원 입니다.\n31번째 날의 주가는 10275원 입니다.\n32번째 날의 주가는 10402원 입니다.\n33번째 날의 주가는 10707원 입니다.\n34번째 날의 주가는 10651원 입니다.\n35번째 날의 주가는 10498원 입니다.\n36번째 날의 주가는 10470원 입니다.\n37번째 날의 주가는 10447원 입니다.\n38번째 날의 주가는 10531원 입니다.\n39번째 날의 주가는 10487원 입니다.\n40번째 날의 주가는 10610원 입니다.\n41번째 날의 주가는 10622원 입니다.\n42번째 날의 주가는 10520원 입니다.\n43번째 날의 주가는 10496원 입니다.\n44번째 날의 주가는 10647원 입니다.\n45번째 날의 주가는 10765원 입니다.\n46번째 날의 주가는 10794원 입니다.\n47번째 날의 주가는 10836원 입니다.\n48번째 날의 주가는 10836원 입니다.\n49번째 날의 주가는 10815원 입니다.\n50번째 날의 주가는 10993원 입니다.\n51번째 날의 주가는 10965원 입니다.\n52번째 날의 주가는 10957원 입니다.\n53번째 날의 주가는 10728원 입니다.\n54번째 날의 주가는 10810원 입니다.\n55번째 날의 주가는 11026원 입니다.\n56번째 날의 주가는 11130원 입니다.\n57번째 날의 주가는 11279원 입니다.\n58번째 날의 주가는 11299원 입니다.\n59번째 날의 주가는 11391원 입니다.\n60번째 날의 주가는 11578원 입니다.\n61번째 날의 주가는 11580원 입니다.\n62번째 날의 주가는 11647원 입니다.\n63번째 날의 주가는 11859원 입니다.\n64번째 날의 주가는 11786원 입니다.\n65번째 날의 주가는 11694원 입니다.\n66번째 날의 주가는 11704원 입니다.\n67번째 날의 주가는 11705원 입니다.\n68번째 날의 주가는 11836원 입니다.\n69번째 날의 주가는 11802원 입니다.\n70번째 날의 주가는 11910원 입니다.\n71번째 날의 주가는 12043원 입니다.\n72번째 날의 주가는 12133원 입니다.\n73번째 날의 주가는 12091원 입니다.\n74번째 날의 주가는 12063원 입니다.\n75번째 날의 주가는 12017원 입니다.\n76번째 날의 주가는 11916원 입니다.\n77번째 날의 주가는 12158원 입니다.\n78번째 날의 주가는 12086원 입니다.\n79번째 날의 주가는 12182원 입니다.\n80번째 날의 주가는 12343원 입니다.\n81번째 날의 주가는 12306원 입니다.\n82번째 날의 주가는 12274원 입니다.\n83번째 날의 주가는 12440원 입니다.\n84번째 날의 주가는 12483원 입니다.\n85번째 날의 주가는 12439원 입니다.\n86번째 날의 주가는 12314원 입니다.\n87번째 날의 주가는 12494원 입니다.\n88번째 날의 주가는 12532원 입니다.\n89번째 날의 주가는 12242원 입니다.\n90번째 날의 주가는 12402원 입니다.\n91번째 날의 주가는 12234원 입니다.\n92번째 날의 주가는 12288원 입니다.\n93번째 날의 주가는 12173원 입니다.\n94번째 날의 주가는 12228원 입니다.\n95번째 날의 주가는 12369원 입니다.\n96번째 날의 주가는 12209원 입니다.\n97번째 날의 주가는 12187원 입니다.\n98번째 날의 주가는 12394원 입니다.\n99번째 날의 주가는 12359원 입니다.\n100번째 날의 주가는 12188원 입니다.\n101번째 날의 주가는 12182원 입니다.\n102번째 날의 주가는 12131원 입니다.\n103번째 날의 주가는 12103원 입니다.\n104번째 날의 주가는 12078원 입니다.\n105번째 날의 주가는 11990원 입니다.\n106번째 날의 주가는 11915원 입니다.\n107번째 날의 주가는 11912원 입니다.\n108번째 날의 주가는 11881원 입니다.\n109번째 날의 주가는 12160원 입니다.\n110번째 날의 주가는 11916원 입니다.\n111번째 날의 주가는 11889원 입니다.\n112번째 날의 주가는 11807원 입니다.\n113번째 날의 주가는 11817원 입니다.\n114번째 날의 주가는 11980원 입니다.\n115번째 날의 주가는 11953원 입니다.\n116번째 날의 주가는 11854원 입니다.\n117번째 날의 주가는 12060원 입니다.\n118번째 날의 주가는 12030원 입니다.\n119번째 날의 주가는 12162원 입니다.\n120번째 날의 주가는 12241원 입니다.\n121번째 날의 주가는 12242원 입니다.\n122번째 날의 주가는 12217원 입니다.\n123번째 날의 주가는 12096원 입니다.\n124번째 날의 주가는 12029원 입니다.\n125번째 날의 주가는 12087원 입니다.\n126번째 날의 주가는 12256원 입니다.\n127번째 날의 주가는 12469원 입니다.\n128번째 날의 주가는 12698원 입니다.\n129번째 날의 주가는 12692원 입니다.\n130번째 날의 주가는 12653원 입니다.\n131번째 날의 주가는 12751원 입니다.\n132번째 날의 주가는 12634원 입니다.\n133번째 날의 주가는 12729원 입니다.\n134번째 날의 주가는 12691원 입니다.\n135번째 날의 주가는 12622원 입니다.\n136번째 날의 주가는 12601원 입니다.\n137번째 날의 주가는 12758원 입니다.\n138번째 날의 주가는 12803원 입니다.\n139번째 날의 주가는 13004원 입니다.\n140번째 날의 주가는 13127원 입니다.\n141번째 날의 주가는 13155원 입니다.\n142번째 날의 주가는 13098원 입니다.\n143번째 날의 주가는 13130원 입니다.\n144번째 날의 주가는 13162원 입니다.\n145번째 날의 주가는 13265원 입니다.\n146번째 날의 주가는 13319원 입니다.\n147번째 날의 주가는 13250원 입니다.\n148번째 날의 주가는 13104원 입니다.\n149번째 날의 주가는 13079원 입니다.\n150번째 날의 주가는 13161원 입니다.\n151번째 날의 주가는 13494원 입니다.\n152번째 날의 주가는 13528원 입니다.\n153번째 날의 주가는 13671원 입니다.\n154번째 날의 주가는 13517원 입니다.\n155번째 날의 주가는 13579원 입니다.\n156번째 날의 주가는 13575원 입니다.\n157번째 날의 주가는 13608원 입니다.\n158번째 날의 주가는 13571원 입니다.\n159번째 날의 주가는 13673원 입니다.\n160번째 날의 주가는 13471원 입니다.\n161번째 날의 주가는 13469원 입니다.\n162번째 날의 주가는 13710원 입니다.\n163번째 날의 주가는 13696원 입니다.\n164번째 날의 주가는 13663원 입니다.\n165번째 날의 주가는 13765원 입니다.\n166번째 날의 주가는 13616원 입니다.\n167번째 날의 주가는 13757원 입니다.\n168번째 날의 주가는 13623원 입니다.\n169번째 날의 주가는 13658원 입니다.\n170번째 날의 주가는 13573원 입니다.\n171번째 날의 주가는 13418원 입니다.\n172번째 날의 주가는 13263원 입니다.\n173번째 날의 주가는 13408원 입니다.\n174번째 날의 주가는 13499원 입니다.\n175번째 날의 주가는 13478원 입니다.\n176번째 날의 주가는 13315원 입니다.\n177번째 날의 주가는 13326원 입니다.\n178번째 날의 주가는 13115원 입니다.\n179번째 날의 주가는 13159원 입니다.\n180번째 날의 주가는 13115원 입니다.\n181번째 날의 주가는 13266원 입니다.\n182번째 날의 주가는 13312원 입니다.\n183번째 날의 주가는 13349원 입니다.\n184번째 날의 주가는 13379원 입니다.\n185번째 날의 주가는 13270원 입니다.\n186번째 날의 주가는 13300원 입니다.\n187번째 날의 주가는 13482원 입니다.\n188번째 날의 주가는 13349원 입니다.\n189번째 날의 주가는 13371원 입니다.\n190번째 날의 주가는 13598원 입니다.\n191번째 날의 주가는 13754원 입니다.\n192번째 날의 주가는 14047원 입니다.\n193번째 날의 주가는 13970원 입니다.\n194번째 날의 주가는 14034원 입니다.\n195번째 날의 주가는 13956원 입니다.\n196번째 날의 주가는 14101원 입니다.\n197번째 날의 주가는 14035원 입니다.\n198번째 날의 주가는 14047원 입니다.\n199번째 날의 주가는 14136원 입니다.\n200번째 날의 주가는 13934원 입니다.\n201번째 날의 주가는 13967원 입니다.\n202번째 날의 주가는 13664원 입니다.\n203번째 날의 주가는 13760원 입니다.\n204번째 날의 주가는 13734원 입니다.\n205번째 날의 주가는 13551원 입니다.\n206번째 날의 주가는 13669원 입니다.\n207번째 날의 주가는 13617원 입니다.\n208번째 날의 주가는 13438원 입니다.\n209번째 날의 주가는 13490원 입니다.\n210번째 날의 주가는 13407원 입니다.\n211번째 날의 주가는 13255원 입니다.\n212번째 날의 주가는 13410원 입니다.\n213번째 날의 주가는 13385원 입니다.\n214번째 날의 주가는 13712원 입니다.\n215번째 날의 주가는 13726원 입니다.\n216번째 날의 주가는 13711원 입니다.\n217번째 날의 주가는 13551원 입니다.\n218번째 날의 주가는 13652원 입니다.\n219번째 날의 주가는 13691원 입니다.\n220번째 날의 주가는 13794원 입니다.\n221번째 날의 주가는 13677원 입니다.\n222번째 날의 주가는 13621원 입니다.\n223번째 날의 주가는 13683원 입니다.\n224번째 날의 주가는 13829원 입니다.\n225번째 날의 주가는 13837원 입니다.\n226번째 날의 주가는 13697원 입니다.\n227번째 날의 주가는 13655원 입니다.\n228번째 날의 주가는 13805원 입니다.\n229번째 날의 주가는 13998원 입니다.\n230번째 날의 주가는 14176원 입니다.\n231번째 날의 주가는 14318원 입니다.\n232번째 날의 주가는 14526원 입니다.\n233번째 날의 주가는 14623원 입니다.\n234번째 날의 주가는 14699원 입니다.\n235번째 날의 주가는 14639원 입니다.\n236번째 날의 주가는 14489원 입니다.\n237번째 날의 주가는 14754원 입니다.\n238번째 날의 주가는 14717원 입니다.\n239번째 날의 주가는 14481원 입니다.\n240번째 날의 주가는 14425원 입니다.\n241번째 날의 주가는 14386원 입니다.\n242번째 날의 주가는 14253원 입니다.\n243번째 날의 주가는 14310원 입니다.\n244번째 날의 주가는 14051원 입니다.\n245번째 날의 주가는 13832원 입니다.\n246번째 날의 주가는 13653원 입니다.\n247번째 날의 주가는 13525원 입니다.\n248번째 날의 주가는 13702원 입니다.\n249번째 날의 주가는 13705원 입니다.\n250번째 날의 주가는 13709원 입니다.\n"
     ]
    }
   ],
   "source": [
    "# 소수점이하 반올림\n",
    "# days_ earnings_rate ~N(0,1)\n",
    "days_earnings_rate = np.random.normal(0,1,250)* 0.01 ; # days_earnings_rate\n",
    "\n",
    "# 250일간의 주가변동\n",
    "price = 10000\n",
    "for i in range(0, 250):\n",
    "    price = price * days_earnings_rate[i] + price\n",
    "    print(f'{i+1}번째 날의 주가는 {round(price)}원 입니다.')"
   ]
  }
 ]
}