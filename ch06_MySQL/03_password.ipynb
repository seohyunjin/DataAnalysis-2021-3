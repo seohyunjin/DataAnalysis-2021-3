{
 "metadata": {
  "language_info": {
   "codemirror_mode": {
    "name": "ipython",
    "version": 3
   },
   "file_extension": ".py",
   "mimetype": "text/x-python",
   "name": "python",
   "nbconvert_exporter": "python",
   "pygments_lexer": "ipython3",
   "version": "3.8.5"
  },
  "orig_nbformat": 2,
  "kernelspec": {
   "name": "python385jvsc74a57bd08c1eae21719a0790335dcb83aad72b63b602cfe5cdb2bda0f60bc11d4f154e4b",
   "display_name": "Python 3.8.5 64-bit ('base': conda)"
  }
 },
 "nbformat": 4,
 "nbformat_minor": 2,
 "cells": [
  {
   "source": [
    "# 패스워드 암호화"
   ],
   "cell_type": "markdown",
   "metadata": {}
  },
  {
   "cell_type": "code",
   "execution_count": 18,
   "metadata": {},
   "outputs": [],
   "source": [
    "import json\n",
    "import pymysql"
   ]
  },
  {
   "cell_type": "code",
   "execution_count": 19,
   "metadata": {},
   "outputs": [],
   "source": [
    "with open('mysql.json','r') as file:\n",
    "    config_str = file.read()\n",
    "config = json.loads(config_str)"
   ]
  },
  {
   "cell_type": "code",
   "execution_count": 20,
   "metadata": {},
   "outputs": [],
   "source": [
    "conn = pymysql.connect(\n",
    "host = config['host'],\n",
    "user = config['user'],\n",
    "password = config['password'],\n",
    "database = config['database'],\n",
    "port = config['port'],\n",
    ")"
   ]
  },
  {
   "source": [
    "## 패스워드 암호화"
   ],
   "cell_type": "markdown",
   "metadata": {}
  },
  {
   "cell_type": "code",
   "execution_count": 1,
   "metadata": {},
   "outputs": [],
   "source": [
    "import hashlib\n",
    "import base64"
   ]
  },
  {
   "source": [
    "## - Secure Hash Algorithm (SHA-256)"
   ],
   "cell_type": "markdown",
   "metadata": {}
  },
  {
   "cell_type": "code",
   "execution_count": 2,
   "metadata": {},
   "outputs": [
    {
     "output_type": "execute_result",
     "data": {
      "text/plain": [
       "b'\\x03\\xacgB\\x16\\xf3\\xe1\\\\v\\x1e\\xe1\\xa5\\xe2U\\xf0g\\x956#\\xc8\\xb3\\x88\\xb4E\\x9e\\x13\\xf9x\\xd7\\xc8F\\xf4'"
      ]
     },
     "metadata": {},
     "execution_count": 2
    }
   ],
   "source": [
    "# 모듈 설치없이\n",
    "pwd = '1234'\n",
    "pwd_sha256 = hashlib.sha256(pwd.encode())\n",
    "pwd_sha256.digest()"
   ]
  },
  {
   "source": [
    "## base 64로 인코딩"
   ],
   "cell_type": "markdown",
   "metadata": {}
  },
  {
   "cell_type": "code",
   "execution_count": 7,
   "metadata": {},
   "outputs": [
    {
     "output_type": "execute_result",
     "data": {
      "text/plain": [
       "b'A6xnQhbz4Vx2HuGl4lXwZ5U2I8iziLRFnhP5eNfIRvQ='"
      ]
     },
     "metadata": {},
     "execution_count": 7
    }
   ],
   "source": [
    "base64.b64encode(pwd_sha256.digest()) # bytes타입임"
   ]
  },
  {
   "cell_type": "code",
   "execution_count": 11,
   "metadata": {},
   "outputs": [
    {
     "output_type": "execute_result",
     "data": {
      "text/plain": [
       "'A6xnQhbz4Vx2HuGl4lXwZ5U2I8iziLRFnhP5eNfIRvQ='"
      ]
     },
     "metadata": {},
     "execution_count": 11
    }
   ],
   "source": [
    "hashed_pwd = base64.b64encode(pwd_sha256.digest()).decode('utf-8')\n",
    "hashed_pwd"
   ]
  },
  {
   "cell_type": "code",
   "execution_count": 13,
   "metadata": {},
   "outputs": [
    {
     "output_type": "execute_result",
     "data": {
      "text/plain": [
       "44"
      ]
     },
     "metadata": {},
     "execution_count": 13
    }
   ],
   "source": [
    "len(hashed_pwd)"
   ]
  },
  {
   "cell_type": "code",
   "execution_count": 36,
   "metadata": {},
   "outputs": [],
   "source": [
    "# 패스워드를 생성하는 함수\n",
    "def gen_pwd(pwd):\n",
    "     pwd_sha256 = hashlib.sha256(pwd.encode())\n",
    "     hashed_pwd = base64.b64encode(pwd_sha256.digest()).decode('utf-8')\n",
    "     return hashed_pwd"
   ]
  },
  {
   "source": [
    "### users table을 읽어서 pwd 열에 패스워드를 채움"
   ],
   "cell_type": "markdown",
   "metadata": {}
  },
  {
   "cell_type": "code",
   "execution_count": 21,
   "metadata": {},
   "outputs": [
    {
     "output_type": "execute_result",
     "data": {
      "text/plain": [
       "(('admin',),\n",
       " ('djy',),\n",
       " ('eskim',),\n",
       " ('gdhong',),\n",
       " ('jbpark',),\n",
       " ('vincenzo',),\n",
       " ('wjlee',))"
      ]
     },
     "metadata": {},
     "execution_count": 21
    }
   ],
   "source": [
    "    sql = \" SELECT uid FROM users;\"\n",
    "    cur = conn.cursor()\n",
    "    cur.execute(sql)\n",
    "    results = cur.fetchall()\n",
    "    results"
   ]
  },
  {
   "cell_type": "code",
   "execution_count": 24,
   "metadata": {},
   "outputs": [],
   "source": [
    "sql = 'UPDATE users SET pwd = %s where uid = %s;'\n",
    "cur = conn.cursor()\n",
    "for row in results:\n",
    "    uid = row[0]\n",
    "    pwd = gen_pwd(uid +'12') # 패스워드 생성함수 gen_pwd를 위해서정의함\n",
    "    cur.execute(sql,(pwd, uid))\n",
    "conn.commit()"
   ]
  },
  {
   "source": [
    "# 로그인"
   ],
   "cell_type": "markdown",
   "metadata": {}
  },
  {
   "source": [
    "## 1) uid OK, pwd OK"
   ],
   "cell_type": "markdown",
   "metadata": {}
  },
  {
   "cell_type": "code",
   "execution_count": 28,
   "metadata": {},
   "outputs": [
    {
     "output_type": "execute_result",
     "data": {
      "text/plain": [
       "'EUZjqxlO3LP2HUCYg85K5sPC+YVBlAlaU4UBHRW+y+8='"
      ]
     },
     "metadata": {},
     "execution_count": 28
    }
   ],
   "source": [
    "uid, pwd = 'admin', 'admin12'\n",
    "sql = 'SELECT uid, pwd FROM users WHERE uid = %s;'\n",
    "cur = conn.cursor()\n",
    "cur.execute(sql, (uid,))\n",
    "result = cur.fetchone()\n",
    "db_pwd = result[1]\n",
    "db_pwd"
   ]
  },
  {
   "cell_type": "code",
   "execution_count": 29,
   "metadata": {},
   "outputs": [
    {
     "output_type": "execute_result",
     "data": {
      "text/plain": [
       "'EUZjqxlO3LP2HUCYg85K5sPC+YVBlAlaU4UBHRW+y+8='"
      ]
     },
     "metadata": {},
     "execution_count": 29
    }
   ],
   "source": [
    "hashed_pwd = gen_pwd(pwd)\n",
    "hashed_pwd"
   ]
  },
  {
   "source": [
    "## 2) uid OK, pwd BAD"
   ],
   "cell_type": "markdown",
   "metadata": {}
  },
  {
   "cell_type": "code",
   "execution_count": 30,
   "metadata": {},
   "outputs": [
    {
     "output_type": "execute_result",
     "data": {
      "text/plain": [
       "'A6xnQhbz4Vx2HuGl4lXwZ5U2I8iziLRFnhP5eNfIRvQ='"
      ]
     },
     "metadata": {},
     "execution_count": 30
    }
   ],
   "source": [
    "pwd ='1234'\n",
    "hashed_pwd = gen_pwd(pwd)\n",
    "hashed_pwd"
   ]
  },
  {
   "source": [
    "## 3) uid BAD"
   ],
   "cell_type": "markdown",
   "metadata": {}
  },
  {
   "cell_type": "code",
   "execution_count": 31,
   "metadata": {},
   "outputs": [
    {
     "output_type": "execute_result",
     "data": {
      "text/plain": [
       "0"
      ]
     },
     "metadata": {},
     "execution_count": 31
    }
   ],
   "source": [
    "uid = 'fool'\n",
    "sql = 'SELECT uid, pwd FROM users WHERE uid = %s;'\n",
    "cur = conn.cursor()\n",
    "cur.execute(sql, (uid,) )"
   ]
  },
  {
   "cell_type": "code",
   "execution_count": 32,
   "metadata": {},
   "outputs": [],
   "source": [
    "result =cur.fetchone()\n",
    "result # 아무것도 없음 "
   ]
  },
  {
   "source": [
    "## quiz] (1),(2),(3)을 하나로 합치기\n",
    "\n"
   ],
   "cell_type": "markdown",
   "metadata": {}
  },
  {
   "cell_type": "code",
   "execution_count": 39,
   "metadata": {},
   "outputs": [],
   "source": [
    "uid, pwd = 'admin', 'admin12' #correct"
   ]
  },
  {
   "cell_type": "code",
   "execution_count": 41,
   "metadata": {},
   "outputs": [],
   "source": [
    "uid, pwd = 'admin', 'admin1234' #incorrect password"
   ]
  },
  {
   "cell_type": "code",
   "execution_count": 43,
   "metadata": {},
   "outputs": [],
   "source": [
    "uid, pwd = 'admin12', 'admin1234' #bad uid"
   ]
  },
  {
   "cell_type": "code",
   "execution_count": 44,
   "metadata": {},
   "outputs": [
    {
     "output_type": "stream",
     "name": "stdout",
     "text": [
      "bad uid\n"
     ]
    }
   ],
   "source": [
    "sql = 'SELECT uid, pwd FROM users WHERE uid = %s and is_deleted=0;'\n",
    "cur = conn.cursor()\n",
    "cur.execute(sql, (uid,))\n",
    "result = cur.fetchone()\n",
    "if result:\n",
    "    db_pwd = result[1]\n",
    "    hashed_pwd = gen_pwd(pwd)\n",
    "    if db_pwd == hashed_pwd:\n",
    "        print('correct')\n",
    "    else:\n",
    "        print('incorrect password')\n",
    "else: \n",
    "    print('bad uid')"
   ]
  },
  {
   "cell_type": "code",
   "execution_count": 46,
   "metadata": {},
   "outputs": [],
   "source": [
    "cur.close()\n",
    "conn.close()"
   ]
  }
 ]
}