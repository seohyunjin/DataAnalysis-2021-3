{
 "metadata": {
  "language_info": {
   "codemirror_mode": {
    "name": "ipython",
    "version": 3
   },
   "file_extension": ".py",
   "mimetype": "text/x-python",
   "name": "python",
   "nbconvert_exporter": "python",
   "pygments_lexer": "ipython3",
   "version": "3.8.5"
  },
  "orig_nbformat": 2,
  "kernelspec": {
   "name": "python385jvsc74a57bd08c1eae21719a0790335dcb83aad72b63b602cfe5cdb2bda0f60bc11d4f154e4b",
   "display_name": "Python 3.8.5 64-bit ('base': conda)"
  }
 },
 "nbformat": 4,
 "nbformat_minor": 2,
 "cells": [
  {
   "source": [
    "conda install pymysq"
   ],
   "cell_type": "markdown",
   "metadata": {}
  },
  {
   "source": [
    "# Python MySQL"
   ],
   "cell_type": "markdown",
   "metadata": {}
  },
  {
   "cell_type": "code",
   "execution_count": 2,
   "metadata": {},
   "outputs": [],
   "source": [
    "import json\n",
    "import pymysql"
   ]
  },
  {
   "cell_type": "code",
   "execution_count": 3,
   "metadata": {},
   "outputs": [],
   "source": [
    "with open('mysql.json','r') as file:\n",
    "    config_str = file.read()\n",
    "config = json.loads(config_str)"
   ]
  },
  {
   "cell_type": "code",
   "execution_count": 4,
   "metadata": {},
   "outputs": [],
   "source": [
    "conn = pymysql.connect(\n",
    "host = config['host'],\n",
    "user = config['user'],\n",
    "password = config['password'],\n",
    "database = config['database'],\n",
    "port = config['port'],\n",
    ")"
   ]
  },
  {
   "source": [
    "## 테이블 생성\n",
    "sql로 db에 테이블 생성"
   ],
   "cell_type": "markdown",
   "metadata": {}
  },
  {
   "cell_type": "code",
   "execution_count": 7,
   "metadata": {},
   "outputs": [],
   "source": [
    "sql_user = \"\"\"\n",
    "CREATE TABLE if NOT EXISTS users(\n",
    "\tuid VARCHAR(20) NOT NULL PRIMARY KEY,\n",
    "\tpwd CHAR(44),\n",
    "\tuname VARCHAR(20) NOT NULL,\n",
    "\treg_date DATETIME DEFAULT CURRENT_TIMESTAMP,\n",
    "\tis_deleted INT DEFAULT 0\n",
    ");\n",
    "\"\"\""
   ]
  },
  {
   "cell_type": "code",
   "execution_count": 8,
   "metadata": {},
   "outputs": [
    {
     "output_type": "execute_result",
     "data": {
      "text/plain": [
       "0"
      ]
     },
     "metadata": {},
     "execution_count": 8
    }
   ],
   "source": [
    "cur = conn.cursor()\n",
    "cur.execute(sql_user)"
   ]
  },
  {
   "source": [
    "## 테이블 변경\n",
    "cur.execute() 괄호안 sql 이용"
   ],
   "cell_type": "markdown",
   "metadata": {}
  },
  {
   "cell_type": "code",
   "execution_count": 9,
   "metadata": {},
   "outputs": [
    {
     "output_type": "execute_result",
     "data": {
      "text/plain": [
       "0"
      ]
     },
     "metadata": {},
     "execution_count": 9
    }
   ],
   "source": [
    "# email column 추가하여 테이블 변경\n",
    "cur.execute('alter table users add column email varchar(40);') "
   ]
  },
  {
   "source": [
    "### 값 추가"
   ],
   "cell_type": "markdown",
   "metadata": {}
  },
  {
   "cell_type": "code",
   "execution_count": 11,
   "metadata": {},
   "outputs": [
    {
     "output_type": "execute_result",
     "data": {
      "text/plain": [
       "1"
      ]
     },
     "metadata": {},
     "execution_count": 11
    }
   ],
   "source": [
    "cur = conn.cursor()\n",
    "cur.execute(\"INSERT INTO users(uid, uname) VALUES('admin','관리자');\")"
   ]
  },
  {
   "cell_type": "code",
   "execution_count": 14,
   "metadata": {},
   "outputs": [
    {
     "output_type": "stream",
     "name": "stdout",
     "text": [
      "('admin', None, '관리자', datetime.datetime(2021, 6, 9, 10, 49, 56), 0, None)\n"
     ]
    }
   ],
   "source": [
    "cur.execute('select * from users;')\n",
    "rows = cur.fetchall()\n",
    "for row in rows: \n",
    "    print(row)"
   ]
  },
  {
   "cell_type": "code",
   "execution_count": 15,
   "metadata": {},
   "outputs": [],
   "source": [
    "# 입력한 데이터를 즉시 flush하려면 conn.commit()을 추가\n",
    "sql_insert_multi = \"\"\"\n",
    "    INSERT INTO users(uid, uname)\n",
    "    VALUES('eskim','김은숙'),('wjlee','이우정'); \"\"\"\n",
    "cur.execute(sql_insert_multi)\n",
    "conn.commit()"
   ]
  },
  {
   "cell_type": "code",
   "execution_count": 17,
   "metadata": {},
   "outputs": [
    {
     "output_type": "stream",
     "name": "stdout",
     "text": [
      "('admin', None, '관리자', datetime.datetime(2021, 6, 9, 10, 49, 56), 0, None)\n('eskim', None, '김은숙', datetime.datetime(2021, 6, 9, 10, 56, 51), 0, None)\n('wjlee', None, '이우정', datetime.datetime(2021, 6, 9, 10, 56, 51), 0, None)\n"
     ]
    }
   ],
   "source": [
    "cur.execute('select * from users;')\n",
    "rows = cur.fetchall()\n",
    "for row in rows: \n",
    "    print(row)"
   ]
  },
  {
   "cell_type": "code",
   "execution_count": 18,
   "metadata": {},
   "outputs": [
    {
     "output_type": "stream",
     "name": "stdout",
     "text": [
      "('admin', '관리자', '2021-06-09 10:49', 0, None)\n('eskim', '김은숙', '2021-06-09 10:56', 0, None)\n('wjlee', '이우정', '2021-06-09 10:56', 0, None)\n"
     ]
    }
   ],
   "source": [
    "# is_deleted : 삭제된것은 1 삭제 안된것은 0\n",
    "\n",
    "sql_select = \"\"\"\n",
    "    SELECT uid,uname,DATE_FORMAT(reg_date,\"%Y-%m-%d %h:%i\")AS reg_date, is_deleted, email FROM users; \n",
    "    \"\"\"\n",
    "cur.execute(sql_select)\n",
    "rows = cur.fetchall()\n",
    "for row in rows: \n",
    "    print(row)"
   ]
  },
  {
   "cell_type": "code",
   "execution_count": 21,
   "metadata": {},
   "outputs": [],
   "source": [
    "# 파라메터 이용, placeholder\n",
    "\n",
    "uid = 'diy'\n",
    "uname = '대조영'\n",
    "cur = conn.cursor()\n",
    "sql = \"INSERT INTO users(uid, uname) VALUES(%s,%s);\"\n",
    "cur.execute(sql, (uid,uname))\n",
    "conn.commit()"
   ]
  },
  {
   "cell_type": "code",
   "execution_count": 33,
   "metadata": {},
   "outputs": [],
   "source": [
    "uid = 'gdhong'\n",
    "cur = conn.cursor()\n",
    "sql = \"INSERT INTO users(uid, uname) VALUES(%s,'홍길동');\"\n",
    "cur.execute(sql, (uid,) ) # 튜플로 넣어주어야함\n",
    "conn.commit()"
   ]
  },
  {
   "cell_type": "code",
   "execution_count": 29,
   "metadata": {},
   "outputs": [],
   "source": [
    "users =(('jbpark','박재범'), ('vicenzo','빈센조')) \n",
    "cur = conn.cursor()\n",
    "sql = \"INSERT INTO users(uid, uname) VALUES(%s,%s);\"\n",
    "for user in users:\n",
    "    cur.execute(sql, user)\n",
    "conn.commit()"
   ]
  },
  {
   "source": [
    "## 데이터 삭제"
   ],
   "cell_type": "markdown",
   "metadata": {}
  },
  {
   "cell_type": "code",
   "execution_count": 34,
   "metadata": {},
   "outputs": [],
   "source": [
    "cur = conn.cursor()\n",
    "sql = \"DELETE FROM users WHERE uid != 'admin' ;\"\n",
    "cur.execute(sql) \n",
    "conn.commit()"
   ]
  },
  {
   "source": [
    "### 데이터프레임에서 데이터 가져와 db에 저장 "
   ],
   "cell_type": "markdown",
   "metadata": {}
  },
  {
   "source": [
    "### - 데이터프레임 생성"
   ],
   "cell_type": "markdown",
   "metadata": {}
  },
  {
   "cell_type": "code",
   "execution_count": 35,
   "metadata": {},
   "outputs": [
    {
     "output_type": "execute_result",
     "data": {
      "text/plain": [
       "        uid uname\n",
       "0       djy   대조영\n",
       "1     eskim   김은숙\n",
       "2    gdhong   홍길동\n",
       "3    jbpark   박재범\n",
       "4  vincenzo   빈센조\n",
       "5     wjlee   이우정"
      ],
      "text/html": "<div>\n<style scoped>\n    .dataframe tbody tr th:only-of-type {\n        vertical-align: middle;\n    }\n\n    .dataframe tbody tr th {\n        vertical-align: top;\n    }\n\n    .dataframe thead th {\n        text-align: right;\n    }\n</style>\n<table border=\"1\" class=\"dataframe\">\n  <thead>\n    <tr style=\"text-align: right;\">\n      <th></th>\n      <th>uid</th>\n      <th>uname</th>\n    </tr>\n  </thead>\n  <tbody>\n    <tr>\n      <th>0</th>\n      <td>djy</td>\n      <td>대조영</td>\n    </tr>\n    <tr>\n      <th>1</th>\n      <td>eskim</td>\n      <td>김은숙</td>\n    </tr>\n    <tr>\n      <th>2</th>\n      <td>gdhong</td>\n      <td>홍길동</td>\n    </tr>\n    <tr>\n      <th>3</th>\n      <td>jbpark</td>\n      <td>박재범</td>\n    </tr>\n    <tr>\n      <th>4</th>\n      <td>vincenzo</td>\n      <td>빈센조</td>\n    </tr>\n    <tr>\n      <th>5</th>\n      <td>wjlee</td>\n      <td>이우정</td>\n    </tr>\n  </tbody>\n</table>\n</div>"
     },
     "metadata": {},
     "execution_count": 35
    }
   ],
   "source": [
    "import pandas as pd\n",
    "uids =['djy','eskim','gdhong','jbpark','vincenzo','wjlee']\n",
    "unames= ['대조영','김은숙','홍길동','박재범','빈센조','이우정']\n",
    "df = pd.DataFrame({'uid':uids, 'uname':unames})  # 데이터프레임만듬 \n",
    "df"
   ]
  },
  {
   "source": [
    "### -데이터프레임에서 가져와 db에 적재"
   ],
   "cell_type": "markdown",
   "metadata": {}
  },
  {
   "cell_type": "code",
   "execution_count": 36,
   "metadata": {},
   "outputs": [],
   "source": [
    "cur = conn.cursor()\n",
    "sql = \"INSERT INTO users(uid, uname) VALUES(%s,%s);\"\n",
    "for i in df.index:\n",
    "    uid = df.uid[i]\n",
    "    uname = df.uname[i]\n",
    "    cur.execute(sql, (uid, uname))\n",
    "conn.commit()"
   ]
  },
  {
   "source": [
    "## 데이터 수정 "
   ],
   "cell_type": "markdown",
   "metadata": {}
  },
  {
   "cell_type": "code",
   "execution_count": 40,
   "metadata": {},
   "outputs": [],
   "source": [
    "email = 'admin@korea.com'\n",
    "uid = 'admin'\n",
    "cur = conn.cursor()\n",
    "sql = \"update users set email = %s where uid = %s;\"\n",
    "cur.execute(sql, (email, uid))\n",
    "conn.commit()"
   ]
  },
  {
   "source": [
    "# quiz]"
   ],
   "cell_type": "markdown",
   "metadata": {}
  },
  {
   "cell_type": "code",
   "execution_count": 41,
   "metadata": {},
   "outputs": [
    {
     "output_type": "execute_result",
     "data": {
      "text/plain": [
       "        uid               email\n",
       "0       djy       djy@email.com\n",
       "1     eskim     eskim@email.com\n",
       "2    gdhong    gdhong@email.com\n",
       "3    jbpark    jbpark@email.com\n",
       "4  vincenzo  vincenzo@email.com\n",
       "5     wjlee     wjlee@email.com"
      ],
      "text/html": "<div>\n<style scoped>\n    .dataframe tbody tr th:only-of-type {\n        vertical-align: middle;\n    }\n\n    .dataframe tbody tr th {\n        vertical-align: top;\n    }\n\n    .dataframe thead th {\n        text-align: right;\n    }\n</style>\n<table border=\"1\" class=\"dataframe\">\n  <thead>\n    <tr style=\"text-align: right;\">\n      <th></th>\n      <th>uid</th>\n      <th>email</th>\n    </tr>\n  </thead>\n  <tbody>\n    <tr>\n      <th>0</th>\n      <td>djy</td>\n      <td>djy@email.com</td>\n    </tr>\n    <tr>\n      <th>1</th>\n      <td>eskim</td>\n      <td>eskim@email.com</td>\n    </tr>\n    <tr>\n      <th>2</th>\n      <td>gdhong</td>\n      <td>gdhong@email.com</td>\n    </tr>\n    <tr>\n      <th>3</th>\n      <td>jbpark</td>\n      <td>jbpark@email.com</td>\n    </tr>\n    <tr>\n      <th>4</th>\n      <td>vincenzo</td>\n      <td>vincenzo@email.com</td>\n    </tr>\n    <tr>\n      <th>5</th>\n      <td>wjlee</td>\n      <td>wjlee@email.com</td>\n    </tr>\n  </tbody>\n</table>\n</div>"
     },
     "metadata": {},
     "execution_count": 41
    }
   ],
   "source": [
    "import pandas as pd\n",
    "uids =['djy','eskim','gdhong','jbpark','vincenzo','wjlee']\n",
    "emails= ['djy@email.com','eskim@email.com','gdhong@email.com','jbpark@email.com','vincenzo@email.com','wjlee@email.com']\n",
    "df = pd.DataFrame({'uid':uids, 'email':emails})  # 데이터프레임만듬 \n",
    "df"
   ]
  },
  {
   "cell_type": "code",
   "execution_count": 46,
   "metadata": {},
   "outputs": [],
   "source": [
    "cur = conn.cursor()\n",
    "sql = \"update users set email = %s where uid = %s;\"\n",
    "for i in df.index:\n",
    "    cur.execute(sql, (df.email[i], df.uid[i]))\n",
    "conn.commit()"
   ]
  },
  {
   "cell_type": "code",
   "execution_count": 47,
   "metadata": {},
   "outputs": [],
   "source": [
    "# sol) case2 ) df만들지 않고 update\n",
    "cur = conn.cursor()\n",
    "sql = \"update users set email = %s where uid = %s;\"\n",
    "for i in df.index:\n",
    "    uid = df.uid[i]\n",
    "    email = f'{uid}@email.com'\n",
    "    cur.execute(sql, (email, uid))\n",
    "conn.commit()"
   ]
  },
  {
   "source": [
    "## 데이터 조회"
   ],
   "cell_type": "markdown",
   "metadata": {}
  },
  {
   "cell_type": "code",
   "execution_count": 56,
   "metadata": {},
   "outputs": [],
   "source": [
    "sql =\"\"\"\n",
    "    SELECT uid,uname, email,\n",
    "    DATE_FORMAT(reg_date, '%Y-%m-%d %h:%i')AS reg_date\n",
    "    FROM users WHERE is_deleted=0; \n",
    "    \"\"\""
   ]
  },
  {
   "cell_type": "code",
   "execution_count": 57,
   "metadata": {},
   "outputs": [
    {
     "output_type": "execute_result",
     "data": {
      "text/plain": [
       "('admin', '관리자', 'admin@korea.com', '2021-06-09 10:49')"
      ]
     },
     "metadata": {},
     "execution_count": 57
    }
   ],
   "source": [
    "# 한 레코드 조회 : cur.fetchone()\n",
    "\n",
    "cur = conn.cursor()\n",
    "cur.execute(sql)\n",
    "result = cur.fetchone() \n",
    "result"
   ]
  },
  {
   "cell_type": "code",
   "execution_count": 58,
   "metadata": {},
   "outputs": [
    {
     "output_type": "execute_result",
     "data": {
      "text/plain": [
       "(('djy', '대조영', 'djy@email.com', '2021-06-09 11:30'),\n",
       " ('eskim', '김은숙', 'eskim@email.com', '2021-06-09 11:30'))"
      ]
     },
     "metadata": {},
     "execution_count": 58
    }
   ],
   "source": [
    "# n개의 레코드 조회\n",
    "cur.fetchmany(2) # 앞에서 읽은 데이터 다음데이터 부터 나옴. 즉 관리자 읽었으므로 그다음 적재된데이터 호출"
   ]
  },
  {
   "cell_type": "code",
   "execution_count": 59,
   "metadata": {},
   "outputs": [
    {
     "output_type": "execute_result",
     "data": {
      "text/plain": [
       "(('gdhong', '홍길동', 'gdhong@email.com', '2021-06-09 11:30'),)"
      ]
     },
     "metadata": {},
     "execution_count": 59
    }
   ],
   "source": [
    "cur.fetchmany(1) # 관리자, 대조영, 김은숙 다음 데이터인 홍길동 1개를 호출"
   ]
  },
  {
   "cell_type": "code",
   "execution_count": 60,
   "metadata": {},
   "outputs": [
    {
     "output_type": "stream",
     "name": "stdout",
     "text": [
      "('admin', '관리자', 'admin@korea.com', '2021-06-09 10:49')\n('djy', '대조영', 'djy@email.com', '2021-06-09 11:30')\n('eskim', '김은숙', 'eskim@email.com', '2021-06-09 11:30')\n('gdhong', '홍길동', 'gdhong@email.com', '2021-06-09 11:30')\n('jbpark', '박재범', 'jbpark@email.com', '2021-06-09 11:30')\n('vincenzo', '빈센조', 'vincenzo@email.com', '2021-06-09 11:30')\n('wjlee', '이우정', 'wjlee@email.com', '2021-06-09 11:30')\n"
     ]
    }
   ],
   "source": [
    "#모두 조회\n",
    "cur = conn.cursor()\n",
    "cur.execute(sql)\n",
    "results = cur.fetchall() \n",
    "for row in results:\n",
    "    print(row)"
   ]
  },
  {
   "source": [
    "## QUI] 조회한 정보를 데이터 프레임으로 만들기"
   ],
   "cell_type": "markdown",
   "metadata": {}
  },
  {
   "cell_type": "code",
   "execution_count": 63,
   "metadata": {},
   "outputs": [],
   "source": [
    "## \n",
    "uid, uname, email, reg_date=[],[],[],[]\n",
    "cur = conn.cursor()\n",
    "cur.execute(sql)\n",
    "results = cur.fetchall() \n",
    "for row in results:\n",
    "    for i in range(4):\n",
    "     if i == 0: uid.append(row[i])\n",
    "     if i == 1: uname.append(row[i])\n",
    "     if i == 2: email.append(row[i])\n",
    "     if i == 3: reg_date.append(row[i])"
   ]
  },
  {
   "cell_type": "code",
   "execution_count": 65,
   "metadata": {},
   "outputs": [
    {
     "output_type": "execute_result",
     "data": {
      "text/plain": [
       "         id name               email          reg_date\n",
       "0     admin  관리자     admin@korea.com  2021-06-09 10:49\n",
       "1       djy  대조영       djy@email.com  2021-06-09 11:30\n",
       "2     eskim  김은숙     eskim@email.com  2021-06-09 11:30\n",
       "3    gdhong  홍길동    gdhong@email.com  2021-06-09 11:30\n",
       "4    jbpark  박재범    jbpark@email.com  2021-06-09 11:30\n",
       "5  vincenzo  빈센조  vincenzo@email.com  2021-06-09 11:30\n",
       "6     wjlee  이우정     wjlee@email.com  2021-06-09 11:30"
      ],
      "text/html": "<div>\n<style scoped>\n    .dataframe tbody tr th:only-of-type {\n        vertical-align: middle;\n    }\n\n    .dataframe tbody tr th {\n        vertical-align: top;\n    }\n\n    .dataframe thead th {\n        text-align: right;\n    }\n</style>\n<table border=\"1\" class=\"dataframe\">\n  <thead>\n    <tr style=\"text-align: right;\">\n      <th></th>\n      <th>id</th>\n      <th>name</th>\n      <th>email</th>\n      <th>reg_date</th>\n    </tr>\n  </thead>\n  <tbody>\n    <tr>\n      <th>0</th>\n      <td>admin</td>\n      <td>관리자</td>\n      <td>admin@korea.com</td>\n      <td>2021-06-09 10:49</td>\n    </tr>\n    <tr>\n      <th>1</th>\n      <td>djy</td>\n      <td>대조영</td>\n      <td>djy@email.com</td>\n      <td>2021-06-09 11:30</td>\n    </tr>\n    <tr>\n      <th>2</th>\n      <td>eskim</td>\n      <td>김은숙</td>\n      <td>eskim@email.com</td>\n      <td>2021-06-09 11:30</td>\n    </tr>\n    <tr>\n      <th>3</th>\n      <td>gdhong</td>\n      <td>홍길동</td>\n      <td>gdhong@email.com</td>\n      <td>2021-06-09 11:30</td>\n    </tr>\n    <tr>\n      <th>4</th>\n      <td>jbpark</td>\n      <td>박재범</td>\n      <td>jbpark@email.com</td>\n      <td>2021-06-09 11:30</td>\n    </tr>\n    <tr>\n      <th>5</th>\n      <td>vincenzo</td>\n      <td>빈센조</td>\n      <td>vincenzo@email.com</td>\n      <td>2021-06-09 11:30</td>\n    </tr>\n    <tr>\n      <th>6</th>\n      <td>wjlee</td>\n      <td>이우정</td>\n      <td>wjlee@email.com</td>\n      <td>2021-06-09 11:30</td>\n    </tr>\n  </tbody>\n</table>\n</div>"
     },
     "metadata": {},
     "execution_count": 65
    }
   ],
   "source": [
    "ex = pd.DataFrame({\n",
    "    'id' : uid,\n",
    "    'name' : uname,\n",
    "    'email' : email,\n",
    "    'reg_date' : reg_date\n",
    "})\n",
    "ex"
   ]
  },
  {
   "cell_type": "code",
   "execution_count": 67,
   "metadata": {},
   "outputs": [
    {
     "output_type": "execute_result",
     "data": {
      "text/plain": [
       "        uid name               email          reg_date\n",
       "0     admin  관리자     admin@korea.com  2021-06-09 10:49\n",
       "1       djy  대조영       djy@email.com  2021-06-09 11:30\n",
       "2     eskim  김은숙     eskim@email.com  2021-06-09 11:30\n",
       "3    gdhong  홍길동    gdhong@email.com  2021-06-09 11:30\n",
       "4    jbpark  박재범    jbpark@email.com  2021-06-09 11:30\n",
       "5  vincenzo  빈센조  vincenzo@email.com  2021-06-09 11:30\n",
       "6     wjlee  이우정     wjlee@email.com  2021-06-09 11:30"
      ],
      "text/html": "<div>\n<style scoped>\n    .dataframe tbody tr th:only-of-type {\n        vertical-align: middle;\n    }\n\n    .dataframe tbody tr th {\n        vertical-align: top;\n    }\n\n    .dataframe thead th {\n        text-align: right;\n    }\n</style>\n<table border=\"1\" class=\"dataframe\">\n  <thead>\n    <tr style=\"text-align: right;\">\n      <th></th>\n      <th>uid</th>\n      <th>name</th>\n      <th>email</th>\n      <th>reg_date</th>\n    </tr>\n  </thead>\n  <tbody>\n    <tr>\n      <th>0</th>\n      <td>admin</td>\n      <td>관리자</td>\n      <td>admin@korea.com</td>\n      <td>2021-06-09 10:49</td>\n    </tr>\n    <tr>\n      <th>1</th>\n      <td>djy</td>\n      <td>대조영</td>\n      <td>djy@email.com</td>\n      <td>2021-06-09 11:30</td>\n    </tr>\n    <tr>\n      <th>2</th>\n      <td>eskim</td>\n      <td>김은숙</td>\n      <td>eskim@email.com</td>\n      <td>2021-06-09 11:30</td>\n    </tr>\n    <tr>\n      <th>3</th>\n      <td>gdhong</td>\n      <td>홍길동</td>\n      <td>gdhong@email.com</td>\n      <td>2021-06-09 11:30</td>\n    </tr>\n    <tr>\n      <th>4</th>\n      <td>jbpark</td>\n      <td>박재범</td>\n      <td>jbpark@email.com</td>\n      <td>2021-06-09 11:30</td>\n    </tr>\n    <tr>\n      <th>5</th>\n      <td>vincenzo</td>\n      <td>빈센조</td>\n      <td>vincenzo@email.com</td>\n      <td>2021-06-09 11:30</td>\n    </tr>\n    <tr>\n      <th>6</th>\n      <td>wjlee</td>\n      <td>이우정</td>\n      <td>wjlee@email.com</td>\n      <td>2021-06-09 11:30</td>\n    </tr>\n  </tbody>\n</table>\n</div>"
     },
     "metadata": {},
     "execution_count": 67
    }
   ],
   "source": [
    "# SOL) \n",
    "uid, uname, email, reg_date=[],[],[],[]\n",
    "for row in results:\n",
    "    uid.append(row[0])\n",
    "    uname.append(row[1])\n",
    "    email.append(row[2])\n",
    "    reg_date.append(row[3])\n",
    "\n",
    "ex = pd.DataFrame({\n",
    "    'uid' : uid,\n",
    "    'name' : uname,\n",
    "    'email' : email,\n",
    "    'reg_date' : reg_date\n",
    "})\n",
    "ex"
   ]
  },
  {
   "source": [
    "## 데이터 검색 "
   ],
   "cell_type": "markdown",
   "metadata": {}
  },
  {
   "cell_type": "code",
   "execution_count": 70,
   "metadata": {},
   "outputs": [],
   "source": [
    "keyword = '김'\n",
    "sql =\"\"\"\n",
    "    SELECT uid\n",
    "    FROM users\n",
    "    WHERE is_deleted=0 and uname like %s; \n",
    "    \"\"\""
   ]
  },
  {
   "cell_type": "code",
   "execution_count": 73,
   "metadata": {},
   "outputs": [
    {
     "output_type": "execute_result",
     "data": {
      "text/plain": [
       "'eskim'"
      ]
     },
     "metadata": {},
     "execution_count": 73
    }
   ],
   "source": [
    "cur = conn.cursor()\n",
    "cur.execute(sql,keyword+'%') # wild character, 즉 %도 붙여주어야함\n",
    "result = cur.fetchone() #결과가 하나라도 튜플로 데이터를 반환\n",
    "result # tuple 이므로 원하는 하나의 데이터를 뽑기위해서는\n",
    "result[0] # 이렇게 뽑아야함"
   ]
  },
  {
   "cell_type": "code",
   "execution_count": 76,
   "metadata": {},
   "outputs": [
    {
     "output_type": "execute_result",
     "data": {
      "text/plain": [
       "'eskim'"
      ]
     },
     "metadata": {},
     "execution_count": 76
    }
   ],
   "source": [
    "cur = conn.cursor()\n",
    "cur.execute(sql,keyword+'%')\n",
    "result = cur.fetchall() # tuple의 tuple로 반환\n",
    "result # tuple안의 tuple 이므로 원하는 하나의 데이터를 뽑기위해서는\n",
    "result[0][0] # 이렇게 뽑아야함"
   ]
  },
  {
   "cell_type": "code",
   "execution_count": 77,
   "metadata": {},
   "outputs": [],
   "source": [
    "cur.close()\n",
    "conn.close()"
   ]
  }
 ]
}